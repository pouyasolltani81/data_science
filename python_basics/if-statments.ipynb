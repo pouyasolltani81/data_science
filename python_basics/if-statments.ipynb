{
 "cells": [
  {
   "cell_type": "markdown",
   "id": "45fb1c87-5662-4a9f-8237-dd965eb27404",
   "metadata": {
    "tags": []
   },
   "source": [
    "# آموزش جامع شرط‌ها (if statements) در پایتون"
   ]
  },
  {
   "cell_type": "markdown",
   "id": "4e319bd2-86d3-43b4-9d0d-e9a2db5f302f",
   "metadata": {},
   "source": [
    "## شرط‌ها (If Statements)\n",
    " شرط‌ها به ما امکان می‌دهند که تصمیم‌گیری کنیم و مسیر اجرای کد را بر اساس شرایط مشخص تغییر دهیم.\n",
    "    \n",
    " یک عبارت شرطی با استفاده از `if` تعریف می‌شود و می‌تواند شامل `elif` و `else` نیز باشد."
   ]
  },
  {
   "cell_type": "code",
   "execution_count": 9,
   "id": "3d5f00c2-c5d6-4dd1-b24f-c08fa481427e",
   "metadata": {
    "tags": []
   },
   "outputs": [
    {
     "name": "stdout",
     "output_type": "stream",
     "text": [
      "7 بزرگتر از 5 است.\n"
     ]
    }
   ],
   "source": [
    "# ساده‌ترین شکل شرط\n",
    "number = 7\n",
    "if number > 5: \n",
    "    print(number, \"بزرگتر از 5 است.\")"
   ]
  },
  {
   "cell_type": "code",
   "execution_count": 42,
   "id": "6009e29c-9fa5-4ad6-ba03-c92ed7db9561",
   "metadata": {
    "tags": []
   },
   "outputs": [
    {
     "name": "stdout",
     "output_type": "stream",
     "text": [
      "15 یک عدد فرد است.\n"
     ]
    }
   ],
   "source": [
    "# استفاده از شرط `else`\n",
    "if number % 2 == 0: \n",
    "    print(number, \"یک عدد زوج است.\")\n",
    "else: \n",
    "    print(number, \"یک عدد فرد است.\")\n"
   ]
  },
  {
   "cell_type": "code",
   "execution_count": 13,
   "id": "359a059b-15c5-43a7-8f48-75b72e8e451a",
   "metadata": {
    "tags": []
   },
   "outputs": [
    {
     "name": "stdout",
     "output_type": "stream",
     "text": [
      "جوان\n"
     ]
    }
   ],
   "source": [
    "# استفاده از شرط `elif`\n",
    "age = 25\n",
    "if age < 18:  \n",
    "    print(\"نوجوان\")\n",
    "elif age < 35: \n",
    "    print(\"جوان\")\n",
    "else:  \n",
    "    print(\"میانسال\")\n"
   ]
  },
  {
   "cell_type": "code",
   "execution_count": 15,
   "id": "3179cf7d-8931-49df-bf6d-09a3cb2e3b8d",
   "metadata": {
    "tags": []
   },
   "outputs": [
    {
     "name": "stdout",
     "output_type": "stream",
     "text": [
      "نمره: B\n"
     ]
    }
   ],
   "source": [
    "# استفاده از چندین شرط `elif`\n",
    "score = 85\n",
    "if score >= 90: \n",
    "    grade = \"A\"\n",
    "elif score >= 80:  \n",
    "    grade = \"B\"\n",
    "elif score >= 70:  \n",
    "    grade = \"C\"\n",
    "elif score >= 60:  \n",
    "    grade = \"D\"\n",
    "else:  \n",
    "    grade = \"F\"\n",
    "print(\"نمره:\", grade)"
   ]
  },
  {
   "cell_type": "code",
   "execution_count": 29,
   "id": "40297c3d-35ad-4dc7-949c-af0f3abc9dcf",
   "metadata": {
    "tags": []
   },
   "outputs": [
    {
     "name": "stdout",
     "output_type": "stream",
     "text": [
      "مریم در لیست وجود دارد.\n"
     ]
    }
   ],
   "source": [
    "# استفاده از شرط‌ها برای بررسی وجود در لیست\n",
    "names = [\"علی\", \"مریم\", \"رضا\", \"زهرا\"]\n",
    "name_to_check = \"مریم\"\n",
    "if name_to_check in names:  \n",
    "    print(name_to_check, \"در لیست وجود دارد.\")\n",
    "else:  \n",
    "    print(name_to_check, \"در لیست وجود ندارد.\")"
   ]
  },
  {
   "cell_type": "code",
   "execution_count": 31,
   "id": "7c728761-a45f-4a4f-87bb-e5613df574f3",
   "metadata": {
    "tags": []
   },
   "outputs": [
    {
     "name": "stdout",
     "output_type": "stream",
     "text": [
      "هوا گرم و مرطوب است.\n"
     ]
    }
   ],
   "source": [
    "# ترکیب شرط‌ها با استفاده از عملگرهای منطقی\n",
    "temperature = 30\n",
    "humidity = 70\n",
    "if temperature > 25 and humidity > 60:  \n",
    "    print(\"هوا گرم و مرطوب است.\")\n",
    "elif temperature > 25 and humidity <= 60:  \n",
    "    print(\"هوا گرم و خشک است.\")\n",
    "else:  \n",
    "    print(\"هوا معتدل است.\")\n"
   ]
  },
  {
   "cell_type": "code",
   "execution_count": 33,
   "id": "8a60d66b-c336-4ef5-906d-33c6d166fcfb",
   "metadata": {
    "tags": []
   },
   "outputs": [
    {
     "name": "stdout",
     "output_type": "stream",
     "text": [
      "7: عدد فرد\n",
      "10: عدد زوج\n"
     ]
    }
   ],
   "source": [
    "# استفاده از شرط‌ها در توابع\n",
    "def check_even_odd(number):\n",
    "    if number % 2 == 0:  \n",
    "        return \"عدد زوج\"\n",
    "    else: \n",
    "        return \"عدد فرد\"\n",
    "\n",
    "print(\"7:\", check_even_odd(7))\n",
    "print(\"10:\", check_even_odd(10))"
   ]
  },
  {
   "cell_type": "code",
   "execution_count": 35,
   "id": "07b948af-b9cd-4980-a0e7-76131a5bdd6a",
   "metadata": {
    "tags": []
   },
   "outputs": [
    {
     "name": "stdout",
     "output_type": "stream",
     "text": [
      "15 یک عدد مثبت فرد است.\n"
     ]
    }
   ],
   "source": [
    "# شرط‌های تودرتو (Nested If Statements)\n",
    "number = 15\n",
    "if number > 0: \n",
    "    if number % 2 == 0: \n",
    "        print(number, \"یک عدد مثبت زوج است.\")\n",
    "    else:  \n",
    "        print(number, \"یک عدد مثبت فرد است.\")\n",
    "else: \n",
    "    print(number, \"یک عدد منفی است.\")"
   ]
  },
  {
   "cell_type": "code",
   "execution_count": 37,
   "id": "f055ce3a-ea6f-45d5-bec9-623bcc1aa7ff",
   "metadata": {
    "tags": []
   },
   "outputs": [
    {
     "name": "stdout",
     "output_type": "stream",
     "text": [
      "سن 10: کودک\n",
      "سن 15: نوجوان\n",
      "سن 45: بزرگسال\n",
      "سن 75: سالمند\n"
     ]
    }
   ],
   "source": [
    "# استفاده از شرط‌ها برای دسته‌بندی\n",
    "def categorize_age(age):\n",
    "    if age < 13:  \n",
    "        return \"کودک\"\n",
    "    elif age < 20: \n",
    "        return \"نوجوان\"\n",
    "    elif age < 60:  \n",
    "        return \"بزرگسال\"\n",
    "    else: \n",
    "        return \"سالمند\"\n",
    "\n",
    "print(\"سن 10:\", categorize_age(10))\n",
    "print(\"سن 15:\", categorize_age(15))\n",
    "print(\"سن 45:\", categorize_age(45))\n",
    "print(\"سن 75:\", categorize_age(75))"
   ]
  },
  {
   "cell_type": "code",
   "execution_count": 39,
   "id": "3bf0d74e-2420-4bf7-9024-04e8ace2dc90",
   "metadata": {
    "tags": []
   },
   "outputs": [
    {
     "name": "stdout",
     "output_type": "stream",
     "text": [
      "وضعیت دانش‌آموزان:\n",
      "علی : خوب\n",
      "مریم : خوب\n",
      "رضا : قابل قبول\n",
      "زهرا : عالی\n"
     ]
    }
   ],
   "source": [
    "# ترکیب شرط‌ها، لیست‌ها و حلقه‌ها در یک مثال نهایی\n",
    "students_scores = [(\"علی\", 75), (\"مریم\", 85), (\"رضا\", 55), (\"زهرا\", 95)]\n",
    "print(\"وضعیت دانش‌آموزان:\")\n",
    "for student, score in students_scores:  \n",
    "    if score >= 90: \n",
    "        status = \"عالی\"\n",
    "    elif score >= 70: \n",
    "        status = \"خوب\"\n",
    "    elif score >= 50:  \n",
    "        status = \"قابل قبول\"\n",
    "    else: \n",
    "        status = \"نیاز به تلاش بیشتر\"\n",
    "    print(student, \":\", status)"
   ]
  },
  {
   "cell_type": "code",
   "execution_count": null,
   "id": "6847346d-3209-457b-bc5b-f6845bed2d53",
   "metadata": {},
   "outputs": [],
   "source": []
  }
 ],
 "metadata": {
  "kernelspec": {
   "display_name": "Python 3 (ipykernel)",
   "language": "python",
   "name": "python3"
  },
  "language_info": {
   "codemirror_mode": {
    "name": "ipython",
    "version": 3
   },
   "file_extension": ".py",
   "mimetype": "text/x-python",
   "name": "python",
   "nbconvert_exporter": "python",
   "pygments_lexer": "ipython3",
   "version": "3.10.13"
  }
 },
 "nbformat": 4,
 "nbformat_minor": 5
}
