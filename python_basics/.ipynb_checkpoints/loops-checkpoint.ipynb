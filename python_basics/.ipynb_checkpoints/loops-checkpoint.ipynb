{
 "cells": [
  {
   "cell_type": "markdown",
   "id": "26c6c97b-435b-447d-844b-d7e2d35f84fe",
   "metadata": {
    "tags": []
   },
   "source": [
    "# آموزش جامع حلقه‌ها (Loops) در پایتون\n",
    "\n",
    " حلقه‌ها به ما امکان می‌دهند که یک بخش از کد را چندین بار اجرا کنیم. دو نوع حلقه اصلی در پایتون وجود دارد: `for` و `while`.\n"
   ]
  },
  {
   "cell_type": "markdown",
   "id": "f2104832-af3c-41cb-be5b-d00dda93bb5d",
   "metadata": {},
   "source": [
    "\n",
    "## حلقه `for`\n",
    " حلقه `for` برای تکرار روی عناصر یک لیست یا هر شیء تکرارپذیر دیگر استفاده می‌شود."
   ]
  },
  {
   "cell_type": "code",
   "execution_count": 7,
   "id": "1f065eea-4f78-4c03-9143-ea7ce701be72",
   "metadata": {
    "tags": []
   },
   "outputs": [],
   "source": [
    "# تعریف یک لیست از اعداد\n",
    "numbers = [1, 2, 3, 4, 5]\n"
   ]
  },
  {
   "cell_type": "code",
   "execution_count": 35,
   "id": "240fb380-2a10-4362-a6d3-7b05e8115f55",
   "metadata": {
    "tags": []
   },
   "outputs": [
    {
     "name": "stdout",
     "output_type": "stream",
     "text": [
      "عناصر لیست:\n",
      "1\n",
      "2\n",
      "3\n",
      "4\n",
      "5\n"
     ]
    }
   ],
   "source": [
    "# تکرار روی عناصر لیست با استفاده از حلقه `for`\n",
    "print(\"عناصر لیست:\")\n",
    "for number in numbers: \n",
    "    print(number)"
   ]
  },
  {
   "cell_type": "code",
   "execution_count": 37,
   "id": "65dba720-aa8d-41f6-8ab9-798051bf8e57",
   "metadata": {
    "tags": []
   },
   "outputs": [
    {
     "name": "stdout",
     "output_type": "stream",
     "text": [
      "\n",
      "حروف در کلمه:\n",
      "س\n",
      "ل\n",
      "ا\n",
      "م\n"
     ]
    }
   ],
   "source": [
    "# تکرار روی رشته‌ها\n",
    "word = \"سلام\"\n",
    "print(\"\\nحروف در کلمه:\")\n",
    "for letter in word:  \n",
    "    print(letter)\n"
   ]
  },
  {
   "cell_type": "code",
   "execution_count": 39,
   "id": "c4b26b4e-a221-4062-ba5b-d807a25d390f",
   "metadata": {
    "tags": []
   },
   "outputs": [
    {
     "name": "stdout",
     "output_type": "stream",
     "text": [
      "\n",
      "اعداد از 0 تا 4:\n",
      "0\n",
      "1\n",
      "2\n",
      "3\n",
      "4\n"
     ]
    }
   ],
   "source": [
    "# استفاده از تابع range برای تولید اعداد\n",
    "print(\"\\nاعداد از 0 تا 4:\")\n",
    "for i in range(5):  \n",
    "    print(i)"
   ]
  },
  {
   "cell_type": "code",
   "execution_count": 41,
   "id": "ff608f8e-b8ab-4c9b-b2b7-15c256bc70b6",
   "metadata": {
    "tags": []
   },
   "outputs": [
    {
     "name": "stdout",
     "output_type": "stream",
     "text": [
      "\n",
      "اعداد از 5 تا 9:\n",
      "5\n",
      "6\n",
      "7\n",
      "8\n",
      "9\n"
     ]
    }
   ],
   "source": [
    "# استفاده از range با شروع و پایان مشخص\n",
    "print(\"\\nاعداد از 5 تا 9:\")\n",
    "for i in range(5, 10):  \n",
    "    print(i)"
   ]
  },
  {
   "cell_type": "code",
   "execution_count": 43,
   "id": "c714ac3f-6d4f-4e8a-9949-f838622f0ed3",
   "metadata": {
    "tags": []
   },
   "outputs": [
    {
     "name": "stdout",
     "output_type": "stream",
     "text": [
      "\n",
      "اعداد از 0 تا 10 با گام 2:\n",
      "0\n",
      "2\n",
      "4\n",
      "6\n",
      "8\n",
      "10\n"
     ]
    }
   ],
   "source": [
    "# استفاده از range با گام مشخص\n",
    "print(\"\\nاعداد از 0 تا 10 با گام 2:\")\n",
    "for i in range(0, 11, 2):  \n",
    "    print(i)"
   ]
  },
  {
   "cell_type": "code",
   "execution_count": 47,
   "id": "8e3d46ea-8f96-41a0-8c77-bba000231907",
   "metadata": {
    "tags": []
   },
   "outputs": [
    {
     "name": "stdout",
     "output_type": "stream",
     "text": [
      "\n",
      "اعداد از 0 تا 10 با گام 2:\n",
      "10\n",
      "9\n",
      "8\n",
      "7\n",
      "6\n",
      "5\n",
      "4\n",
      "3\n",
      "2\n",
      "1\n",
      "0\n"
     ]
    }
   ],
   "source": [
    "# دستور reversed عناصر لیست را به شکل وارونه به ما میدهد\n",
    "\n",
    "print(\"\\nاعداد از 0 تا 10 به شکل وارونه 2:\")\n",
    "for i in reversed(range(0, 11)):  \n",
    "    print(i)"
   ]
  },
  {
   "cell_type": "code",
   "execution_count": 55,
   "id": "b25fe4da-78d8-4e89-9e5b-e84b9b977bf0",
   "metadata": {
    "tags": []
   },
   "outputs": [
    {
     "name": "stdout",
     "output_type": "stream",
     "text": [
      "apple\n",
      "banana\n",
      "orange\n",
      "pearl\n"
     ]
    }
   ],
   "source": [
    "# دستور sorted عناصر لیست را به شکل مرتب شده به ما میدهد\n",
    "basket = ['apple', 'orange' , 'apple' , 'pearl' , 'orange' , 'banana']\n",
    "for i in sorted(set(basket)):  \n",
    "    print(i)"
   ]
  },
  {
   "cell_type": "code",
   "execution_count": 57,
   "id": "f82bb9f1-e46e-4eba-89ef-94aea6285a94",
   "metadata": {
    "tags": []
   },
   "outputs": [
    {
     "name": "stdout",
     "output_type": "stream",
     "text": [
      "[0, 1, 2, 3, 4, 5, 6, 7, 8, 9]\n"
     ]
    }
   ],
   "source": [
    "# استفاده از for در یک حط\n",
    "one_line_for = [i for i in range(0,10)]\n",
    "print(one_line_for)"
   ]
  },
  {
   "cell_type": "code",
   "execution_count": 59,
   "id": "d88eea22-fbc5-444a-bc80-b7873b562a2a",
   "metadata": {
    "tags": []
   },
   "outputs": [
    {
     "name": "stdout",
     "output_type": "stream",
     "text": [
      "(0, 'apple')\n",
      "(1, 'orange')\n",
      "(2, 'apple')\n",
      "(3, 'pearl')\n",
      "(4, 'orange')\n",
      "(5, 'banana')\n"
     ]
    }
   ],
   "source": [
    "# دستور enumirate عناصر را به شکل تاپل برمیگرداند\n",
    "basket = ['apple', 'orange' , 'apple' , 'pearl' , 'orange' , 'banana']\n",
    "for i in enumerate(basket):  \n",
    "    print(i)"
   ]
  },
  {
   "cell_type": "code",
   "execution_count": 61,
   "id": "959752d1-ff3b-47f5-9b34-b3c34016a66b",
   "metadata": {
    "tags": []
   },
   "outputs": [
    {
     "name": "stdout",
     "output_type": "stream",
     "text": [
      "(100, 'apple')\n",
      "(101, 'orange')\n",
      "(102, 'apple')\n",
      "(103, 'pearl')\n",
      "(104, 'orange')\n",
      "(105, 'banana')\n"
     ]
    }
   ],
   "source": [
    "# استفاده از enumirate با شروع مشخص\n",
    "basket = ['apple', 'orange' , 'apple' , 'pearl' , 'orange' , 'banana']\n",
    "for i in enumerate(basket, 100):  \n",
    "    print(i)"
   ]
  },
  {
   "cell_type": "code",
   "execution_count": 63,
   "id": "49849693-d8f1-43f2-a881-b86211a75cd4",
   "metadata": {
    "tags": []
   },
   "outputs": [
    {
     "name": "stdout",
     "output_type": "stream",
     "text": [
      "میوه : apple    کیفیت : A\n",
      "میوه : orange    کیفیت : C\n",
      "میوه : pearl    کیفیت : B\n",
      "میوه : banana    کیفیت : F\n"
     ]
    }
   ],
   "source": [
    "# دستور zip , فرمت زیپ دو دنباذه رو به شکل تاپل برمیگرداند\n",
    "basket = ['apple', 'orange' , 'pearl' , 'banana']\n",
    "quality = ['A' , 'C' , 'B' , 'F']\n",
    "for item,qu in zip(basket,quality):\n",
    "    print(f'میوه : {item}    کیفیت : {qu}')"
   ]
  },
  {
   "cell_type": "code",
   "execution_count": 45,
   "id": "1f2f7f1a-5248-49b1-8b0b-f47a5ffbd6a9",
   "metadata": {
    "tags": []
   },
   "outputs": [
    {
     "name": "stdout",
     "output_type": "stream",
     "text": [
      "\n",
      "حلقه‌های تودرتو:\n",
      "i: 0 j: 0\n",
      "i: 0 j: 1\n",
      "i: 1 j: 0\n",
      "i: 1 j: 1\n",
      "i: 2 j: 0\n",
      "i: 2 j: 1\n"
     ]
    }
   ],
   "source": [
    "# حلقه‌های تودرتو (Nested Loops)\n",
    "print(\"\\nحلقه‌های تودرتو:\")\n",
    "for i in range(3):  \n",
    "    for j in range(2): \n",
    "        print(\"i:\", i, \"j:\", j)\n"
   ]
  },
  {
   "cell_type": "markdown",
   "id": "5839f6e9-8a8e-4b2e-946b-826d72061bec",
   "metadata": {},
   "source": [
    "## حلقه `while`\n",
    " حلقه `while` تا زمانی که شرط برقرار باشد تکرار می‌کند."
   ]
  },
  {
   "cell_type": "code",
   "execution_count": 22,
   "id": "e9a071e4-59f2-4691-abb2-4eb843846297",
   "metadata": {
    "tags": []
   },
   "outputs": [
    {
     "name": "stdout",
     "output_type": "stream",
     "text": [
      "\n",
      "حلقه while:\n",
      "0\n",
      "1\n",
      "2\n",
      "3\n",
      "4\n"
     ]
    }
   ],
   "source": [
    "\n",
    "count = 0\n",
    "print(\"\\nحلقه while:\")\n",
    "while count < 5:  \n",
    "    print(count)\n",
    "    count += 1  # افزایش شمارنده\n"
   ]
  },
  {
   "cell_type": "code",
   "execution_count": 24,
   "id": "667779f7-0b67-45e6-b558-60a25fa7669f",
   "metadata": {
    "tags": []
   },
   "outputs": [
    {
     "name": "stdout",
     "output_type": "stream",
     "text": [
      "\n",
      "حلقه بی‌نهایت با break:\n",
      "0\n",
      "1\n",
      "2\n",
      "3\n",
      "4\n"
     ]
    }
   ],
   "source": [
    "\n",
    "# حلقه بی‌نهایت و استفاده از break برای متوقف کردن آن\n",
    "print(\"\\nحلقه بی‌نهایت با break:\")\n",
    "count = 0\n",
    "while True:  \n",
    "    print(count)\n",
    "    count += 1\n",
    "    if count >= 5:  \n",
    "        break"
   ]
  },
  {
   "cell_type": "markdown",
   "id": "21109fd1-5ade-4cbd-8baf-61b22aba3a02",
   "metadata": {},
   "source": [
    "## نکات تکمیلی"
   ]
  },
  {
   "cell_type": "code",
   "execution_count": 26,
   "id": "72e1e660-a466-4089-adeb-f363531e11cf",
   "metadata": {
    "tags": []
   },
   "outputs": [
    {
     "name": "stdout",
     "output_type": "stream",
     "text": [
      "\n",
      "استفاده از continue:\n",
      "0\n",
      "1\n",
      "3\n",
      "4\n"
     ]
    }
   ],
   "source": [
    "# استفاده از continue برای رد کردن یک تکرار\n",
    "print(\"\\nاستفاده از continue:\")\n",
    "for i in range(5):  \n",
    "    if i == 2: \n",
    "        continue\n",
    "    print(i)"
   ]
  },
  {
   "cell_type": "code",
   "execution_count": 28,
   "id": "c84eb29d-a99e-4a45-b2d7-24da03f967da",
   "metadata": {
    "tags": []
   },
   "outputs": [
    {
     "name": "stdout",
     "output_type": "stream",
     "text": [
      "\n",
      "استفاده از else با حلقه for:\n",
      "0\n",
      "1\n",
      "2\n",
      "3\n",
      "4\n",
      "حلقه به پایان رسید.\n",
      "\n",
      "استفاده از else با حلقه while:\n",
      "0\n",
      "1\n",
      "2\n",
      "3\n",
      "4\n",
      "حلقه به پایان رسید.\n"
     ]
    }
   ],
   "source": [
    "# استفاده از else با حلقه‌ها\n",
    "print(\"\\nاستفاده از else با حلقه for:\")\n",
    "for i in range(5): \n",
    "    print(i)\n",
    "else: \n",
    "    print(\"حلقه به پایان رسید.\")\n",
    "\n",
    "print(\"\\nاستفاده از else با حلقه while:\")\n",
    "count = 0\n",
    "while count < 5: \n",
    "    print(count)\n",
    "    count += 1\n",
    "else: \n",
    "    print(\"حلقه به پایان رسید.\")\n"
   ]
  },
  {
   "cell_type": "code",
   "execution_count": 30,
   "id": "caf56fc0-3f1f-4275-bcf5-3ae747a17089",
   "metadata": {
    "tags": []
   },
   "outputs": [
    {
     "name": "stdout",
     "output_type": "stream",
     "text": [
      "\n",
      "عناصر لیست تودرتو:\n",
      "1\n",
      "2\n",
      "3\n",
      "4\n",
      "5\n",
      "6\n",
      "7\n",
      "8\n",
      "9\n"
     ]
    }
   ],
   "source": [
    "# حلقه‌ها با لیست‌های تودرتو\n",
    "nested_list = [[1, 2, 3], [4, 5, 6], [7, 8, 9]]\n",
    "print(\"\\nعناصر لیست تودرتو:\")\n",
    "for sublist in nested_list: \n",
    "    for item in sublist: \n",
    "        print(item)\n"
   ]
  },
  {
   "cell_type": "code",
   "execution_count": null,
   "id": "c1e1d1a9-d9a9-4f39-b3f0-b6ca54b70b36",
   "metadata": {},
   "outputs": [],
   "source": []
  }
 ],
 "metadata": {
  "kernelspec": {
   "display_name": "Python 3 (ipykernel)",
   "language": "python",
   "name": "python3"
  },
  "language_info": {
   "codemirror_mode": {
    "name": "ipython",
    "version": 3
   },
   "file_extension": ".py",
   "mimetype": "text/x-python",
   "name": "python",
   "nbconvert_exporter": "python",
   "pygments_lexer": "ipython3",
   "version": "3.10.13"
  }
 },
 "nbformat": 4,
 "nbformat_minor": 5
}
