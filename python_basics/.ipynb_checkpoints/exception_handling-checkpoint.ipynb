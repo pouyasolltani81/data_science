{
 "cells": [
  {
   "cell_type": "markdown",
   "id": "0749b51d-66fc-4c87-a983-bbab076fc326",
   "metadata": {
    "tags": []
   },
   "source": [
    "# آموزش جامع مدیریت استثناها (Exception Handling) در پایتون\n",
    "\n"
   ]
  },
  {
   "cell_type": "markdown",
   "id": "156e7049-d408-41dd-a966-707d9eef0dbf",
   "metadata": {},
   "source": [
    "### مدیریت استثناها به ما کمک می‌کند تا کدهای خود را در برابر خطاها مقاوم‌تر کنیم و رفتار مناسبی در مواجهه با خطاها داشته باشیم."
   ]
  },
  {
   "cell_type": "code",
   "execution_count": 8,
   "id": "1db17ea9-8e8c-4462-bc8a-ce5576b99599",
   "metadata": {
    "tags": []
   },
   "outputs": [
    {
     "name": "stdout",
     "output_type": "stream",
     "text": [
      "خطا: division by zero\n"
     ]
    }
   ],
   "source": [
    "# استفاده از بلوک try و except\n",
    "try:\n",
    "    result = 10 / 0  # این کد خطای تقسیم بر صفر را تولید می‌کند\n",
    "except ZeroDivisionError as e:  \n",
    "    print(\"خطا:\", e)  # خطا: division by zero\n"
   ]
  },
  {
   "cell_type": "code",
   "execution_count": 10,
   "id": "4e065bdd-bfca-428a-9f3b-838382803724",
   "metadata": {
    "tags": []
   },
   "outputs": [
    {
     "name": "stdout",
     "output_type": "stream",
     "text": [
      "خطا: invalid literal for int() with base 10: 'not_a_number'\n"
     ]
    }
   ],
   "source": [
    "# استفاده از چندین بلوک except برای مدیریت انواع مختلف خطاها\n",
    "try:\n",
    "    number = int(\"not_a_number\")  # این کد خطای تبدیل به عدد را تولید می‌کند\n",
    "except ValueError as e:  \n",
    "    print(\"خطا:\", e)  # خطا: invalid literal for int() with base 10: 'not_a_number'\n",
    "except TypeError as e:  \n",
    "    print(\"خطای نوع:\", e)\n"
   ]
  },
  {
   "cell_type": "code",
   "execution_count": 12,
   "id": "6981477e-2e92-4f1f-bbef-a1568f4be9fe",
   "metadata": {
    "tags": []
   },
   "outputs": [
    {
     "name": "stdout",
     "output_type": "stream",
     "text": [
      "خطا: [Errno 2] No such file or directory: 'non_existent_file.txt'\n",
      "این پیام همیشه چاپ می‌شود.\n"
     ]
    }
   ],
   "source": [
    "# استفاده از بلوک finally برای اجرای کد حتی در صورت بروز خطا\n",
    "try:\n",
    "    file = open(\"non_existent_file.txt\", \"r\")  # این کد خطای فایل موجود نیست را تولید می‌کند\n",
    "except FileNotFoundError as e: \n",
    "    print(\"خطا:\", e)  # خطا: [Errno 2] No such file or directory: 'non_existent_file.txt'\n",
    "finally:\n",
    "    print(\"این پیام همیشه چاپ می‌شود.\")  "
   ]
  },
  {
   "cell_type": "code",
   "execution_count": 14,
   "id": "6c656e8f-2d39-4834-8570-74605a0286b4",
   "metadata": {
    "tags": []
   },
   "outputs": [
    {
     "name": "stdout",
     "output_type": "stream",
     "text": [
      "خطای سفارشی: مقدار نمی‌تواند منفی باشد.\n"
     ]
    }
   ],
   "source": [
    "# تعریف استثناهای سفارشی\n",
    "class MyCustomError(Exception):  # class, inherit\n",
    "    pass\n",
    "\n",
    "def my_function(value):\n",
    "    if value < 0:\n",
    "        raise MyCustomError(\"مقدار نمی‌تواند منفی باشد.\") \n",
    "    else:\n",
    "        return value\n",
    "\n",
    "try:\n",
    "    result = my_function(-1)  # این کد خطای سفارشی ما را تولید می‌کند\n",
    "except MyCustomError as e:  \n",
    "    print(\"خطای سفارشی:\", e)  # خطای سفارشی: مقدار نمی‌تواند منفی باشد."
   ]
  },
  {
   "cell_type": "code",
   "execution_count": 20,
   "id": "58cfc6a2-1aac-4519-9108-1c50d534d529",
   "metadata": {
    "tags": []
   },
   "outputs": [],
   "source": [
    "# ترکیب استثناها با برنامه‌نویسی شی‌ءگرا\n",
    "class BankAccount:  \n",
    "    def __init__(self, owner, balance=0): \n",
    "        self.owner = owner \n",
    "        self.balance = balance \n",
    "\n",
    "    def deposit(self, amount): \n",
    "        if amount <= 0:\n",
    "            raise ValueError(\"مبلغ واریز باید مثبت باشد.\") \n",
    "        self.balance += amount\n",
    "        print(f\"{amount} تومان به حساب اضافه شد. موجودی فعلی: {self.balance}\")\n",
    "\n",
    "    def withdraw(self, amount): \n",
    "        if amount <= 0:\n",
    "            raise ValueError(\"مبلغ برداشت باید مثبت باشد.\")\n",
    "        if amount > self.balance:\n",
    "            raise MyCustomError(\"موجودی کافی نیست.\") \n",
    "        self.balance -= amount\n",
    "        print(f\"{amount} تومان از حساب برداشت شد. موجودی فعلی: {self.balance}\")"
   ]
  },
  {
   "cell_type": "code",
   "execution_count": 22,
   "id": "09d0c8ee-e1a2-4d22-bac9-693cb5420409",
   "metadata": {
    "tags": []
   },
   "outputs": [
    {
     "name": "stdout",
     "output_type": "stream",
     "text": [
      "500 تومان به حساب اضافه شد. موجودی فعلی: 1500\n",
      "300 تومان از حساب برداشت شد. موجودی فعلی: 1200\n",
      "خطای سفارشی: موجودی کافی نیست.\n",
      "عملیات حساب بانکی پایان یافت.\n"
     ]
    }
   ],
   "source": [
    "# ایجاد یک شیء از کلاس BankAccount و آزمایش مدیریت استثناها\n",
    "account = BankAccount(\"علی\", 1000) \n",
    "\n",
    "try:\n",
    "    account.deposit(500)  # این عملیات موفق خواهد بود\n",
    "    account.withdraw(300)  # این عملیات موفق خواهد بود\n",
    "    account.withdraw(1500)  # این کد خطای سفارشی موجودی ناکافی را تولید می‌کند\n",
    "except ValueError as e:  \n",
    "    print(\"خطای مقدار:\", e)\n",
    "except MyCustomError as e:  \n",
    "    print(\"خطای سفارشی:\", e)\n",
    "finally:\n",
    "    print(\"عملیات حساب بانکی پایان یافت.\")  "
   ]
  }
 ],
 "metadata": {
  "kernelspec": {
   "display_name": "Python 3 (ipykernel)",
   "language": "python",
   "name": "python3"
  },
  "language_info": {
   "codemirror_mode": {
    "name": "ipython",
    "version": 3
   },
   "file_extension": ".py",
   "mimetype": "text/x-python",
   "name": "python",
   "nbconvert_exporter": "python",
   "pygments_lexer": "ipython3",
   "version": "3.10.13"
  }
 },
 "nbformat": 4,
 "nbformat_minor": 5
}
