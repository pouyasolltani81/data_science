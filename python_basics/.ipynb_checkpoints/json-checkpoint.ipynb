{
 "cells": [
  {
   "cell_type": "markdown",
   "id": "82cb85bd-c2f4-4098-8f03-6d8c64ae4aee",
   "metadata": {},
   "source": [
    "# آموزش جامع کار با فایل‌های JSON در پایتون\n",
    "\n",
    "\n",
    "\n",
    "\n",
    "\n",
    "\n",
    "\n",
    "\n",
    "\n",
    "\n",
    "\n",
    "\n"
   ]
  },
  {
   "cell_type": "markdown",
   "id": "20df7ab2-7bbb-479d-898a-860b9c8cd6bf",
   "metadata": {},
   "source": [
    "## JSON (JavaScript Object Notation)\n",
    " JSON یک فرمت استاندارد برای تبادل داده‌ها است که به طور گسترده‌ای استفاده می‌شود.\n",
    " \n",
    " در پایتون می‌توانیم از کتابخانه `json` برای کار با فایل‌های JSON استفاده کنیم.\n"
   ]
  },
  {
   "cell_type": "code",
   "execution_count": 54,
   "id": "16a5d66f-3bf1-4af9-8a69-5e24becfcdf7",
   "metadata": {
    "tags": []
   },
   "outputs": [
    {
     "name": "stdout",
     "output_type": "stream",
     "text": [
      "رشته JSON:\n",
      "{\n",
      "    \"name\": \"علی\",\n",
      "    \"age\": 21,\n",
      "    \"grade\": \"A\",\n",
      "    \"courses\": [\n",
      "        \"ریاضی\",\n",
      "        \"فیزیک\",\n",
      "        \"برنامه‌نویسی\"\n",
      "    ]\n",
      "}\n"
     ]
    }
   ],
   "source": [
    "import json  \n",
    "\n",
    "# تعریف یک دیکشنری پایتون\n",
    "data = {\n",
    "    \"name\": \"علی\",\n",
    "    \"age\": 21,\n",
    "    \"grade\": \"A\",\n",
    "    \"courses\": [\"ریاضی\", \"فیزیک\", \"برنامه‌نویسی\"]\n",
    "}\n",
    "\n",
    "# تبدیل دیکشنری پایتون به رشته JSON\n",
    "json_string = json.dumps(data, ensure_ascii=False, indent=4)\n",
    "print(\"رشته JSON:\")\n",
    "print(json_string)\n"
   ]
  },
  {
   "cell_type": "code",
   "execution_count": 56,
   "id": "8a5c707b-dbab-414c-9da6-fe2b35443708",
   "metadata": {
    "tags": []
   },
   "outputs": [
    {
     "name": "stdout",
     "output_type": "stream",
     "text": [
      "\n",
      "داده‌ها به فایل data.json نوشته شدند.\n"
     ]
    }
   ],
   "source": [
    "# نوشتن دیکشنری پایتون به یک فایل JSON\n",
    "with open(\"data.json\", \"w\", encoding=\"utf-8\") as json_file:  # open, write\n",
    "    json.dump(data, json_file, ensure_ascii=False, indent=4)  \n",
    "\n",
    "print(\"\\nداده‌ها به فایل data.json نوشته شدند.\")"
   ]
  },
  {
   "cell_type": "code",
   "execution_count": 58,
   "id": "a147fc44-7f49-460a-a84f-16df4b716ed0",
   "metadata": {
    "tags": []
   },
   "outputs": [
    {
     "name": "stdout",
     "output_type": "stream",
     "text": [
      "\n",
      "داده‌های خوانده شده از فایل JSON:\n",
      "{'name': 'علی', 'age': 21, 'grade': 'A', 'courses': ['ریاضی', 'فیزیک', 'برنامه\\u200cنویسی']}\n"
     ]
    }
   ],
   "source": [
    "# خواندن داده‌ها از یک فایل JSON\n",
    "with open(\"data.json\", \"r\", encoding=\"utf-8\") as json_file:  # open, read\n",
    "    loaded_data = json.load(json_file)  \n",
    "\n",
    "print(\"\\nداده‌های خوانده شده از فایل JSON:\")\n",
    "print(loaded_data)"
   ]
  },
  {
   "cell_type": "code",
   "execution_count": 41,
   "id": "a81b323f-fe8f-4888-9cb6-af81a9bb09e2",
   "metadata": {
    "tags": []
   },
   "outputs": [
    {
     "name": "stdout",
     "output_type": "stream",
     "text": [
      "\n",
      "نام: علی\n",
      "سن: 21\n",
      "دروس: ['ریاضی', 'فیزیک', 'برنامه\\u200cنویسی']\n"
     ]
    }
   ],
   "source": [
    "# دسترسی به مقادیر دیکشنری خوانده شده از فایل JSON\n",
    "print(\"\\nنام:\", loaded_data[\"name\"])\n",
    "print(\"سن:\", loaded_data[\"age\"])\n",
    "print(\"دروس:\", loaded_data[\"courses\"])\n"
   ]
  },
  {
   "cell_type": "code",
   "execution_count": 60,
   "id": "a48724d9-ef44-46d1-8de8-99bf4cdd47f8",
   "metadata": {
    "tags": []
   },
   "outputs": [
    {
     "name": "stdout",
     "output_type": "stream",
     "text": [
      "\n",
      "داده‌ها به‌روزرسانی و دوباره به فایل data.json نوشته شدند.\n"
     ]
    }
   ],
   "source": [
    "# به‌روزرسانی داده‌ها و نوشتن دوباره به فایل JSON\n",
    "loaded_data[\"age\"] = 22  # update\n",
    "loaded_data[\"courses\"].append(\"شیمی\")  # update\n",
    "\n",
    "with open(\"data.json\", \"w\", encoding=\"utf-8\") as json_file:  # open, write\n",
    "    json.dump(loaded_data, json_file, ensure_ascii=False, indent=4)  \n",
    "\n",
    "print(\"\\nداده‌ها به‌روزرسانی و دوباره به فایل data.json نوشته شدند.\")\n"
   ]
  },
  {
   "cell_type": "code",
   "execution_count": 62,
   "id": "093c5f21-68ee-4a21-ae16-db7ae10d1a4a",
   "metadata": {
    "tags": []
   },
   "outputs": [
    {
     "name": "stdout",
     "output_type": "stream",
     "text": [
      "\n",
      "رشته JSON جدید:\n",
      "{\"name\": \"مریم\", \"age\": 22, \"grade\": \"B\", \"courses\": [\"ادبیات\", \"هنر\"]}\n",
      "\n",
      "داده‌های تبدیل شده از رشته JSON:\n",
      "{'name': 'مریم', 'age': 22, 'grade': 'B', 'courses': ['ادبیات', 'هنر']}\n"
     ]
    }
   ],
   "source": [
    "# تعریف یک رشته JSON و تبدیل آن به دیکشنری پایتون\n",
    "json_string = '{\"name\": \"مریم\", \"age\": 22, \"grade\": \"B\", \"courses\": [\"ادبیات\", \"هنر\"]}'\n",
    "print(\"\\nرشته JSON جدید:\")\n",
    "print(json_string)\n",
    "\n",
    "data_from_string = json.loads(json_string)  \n",
    "print(\"\\nداده‌های تبدیل شده از رشته JSON:\")\n",
    "print(data_from_string)"
   ]
  },
  {
   "cell_type": "code",
   "execution_count": 64,
   "id": "44beed3a-4330-430c-845a-0091a5ed2b7e",
   "metadata": {
    "tags": []
   },
   "outputs": [
    {
     "name": "stdout",
     "output_type": "stream",
     "text": [
      "\n",
      "داده‌های ترکیبی به فایل students.json نوشته شدند.\n"
     ]
    }
   ],
   "source": [
    "# ترکیب داده‌های دو دیکشنری و نوشتن به یک فایل JSON جدید\n",
    "combined_data = {\"student1\": data, \"student2\": data_from_string}  # combine\n",
    "\n",
    "with open(\"students.json\", \"w\", encoding=\"utf-8\") as json_file:  # open, write\n",
    "    json.dump(combined_data, json_file, ensure_ascii=False, indent=4)  \n",
    "\n",
    "print(\"\\nداده‌های ترکیبی به فایل students.json نوشته شدند.\")\n"
   ]
  },
  {
   "cell_type": "code",
   "execution_count": 66,
   "id": "b6c1142e-a0a6-41a8-a425-deb95b2830b8",
   "metadata": {
    "tags": []
   },
   "outputs": [
    {
     "name": "stdout",
     "output_type": "stream",
     "text": [
      "\n",
      "داده‌های ترکیبی خوانده شده از فایل JSON:\n",
      "{'student1': {'name': 'علی', 'age': 21, 'grade': 'A', 'courses': ['ریاضی', 'فیزیک', 'برنامه\\u200cنویسی']}, 'student2': {'name': 'مریم', 'age': 22, 'grade': 'B', 'courses': ['ادبیات', 'هنر']}}\n"
     ]
    }
   ],
   "source": [
    "# خواندن داده‌های ترکیبی از فایل JSON\n",
    "with open(\"students.json\", \"r\", encoding=\"utf-8\") as json_file:  # open, read\n",
    "    loaded_combined_data = json.load(json_file) \n",
    "\n",
    "print(\"\\nداده‌های ترکیبی خوانده شده از فایل JSON:\")\n",
    "print(loaded_combined_data)\n"
   ]
  },
  {
   "cell_type": "code",
   "execution_count": null,
   "id": "f76891f1-bf84-49a4-a525-680135bbae3c",
   "metadata": {},
   "outputs": [],
   "source": []
  }
 ],
 "metadata": {
  "kernelspec": {
   "display_name": "Python 3 (ipykernel)",
   "language": "python",
   "name": "python3"
  },
  "language_info": {
   "codemirror_mode": {
    "name": "ipython",
    "version": 3
   },
   "file_extension": ".py",
   "mimetype": "text/x-python",
   "name": "python",
   "nbconvert_exporter": "python",
   "pygments_lexer": "ipython3",
   "version": "3.10.13"
  }
 },
 "nbformat": 4,
 "nbformat_minor": 5
}
