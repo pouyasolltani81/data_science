{
 "cells": [
  {
   "cell_type": "markdown",
   "id": "3034a27d-a7d9-4b3f-af50-e1f15d16a76b",
   "metadata": {
    "tags": []
   },
   "source": [
    "# آموزش جامع دیکشنری‌ها (Dictionaries) در پایتون\n"
   ]
  },
  {
   "cell_type": "markdown",
   "id": "f11dbf33-549c-4e73-b59f-9d6ebeb0d125",
   "metadata": {},
   "source": [
    "\n",
    "## دیکشنری‌ها (Dictionaries)\n",
    "### دیکشنری‌ها ساختار داده‌ای هستند که شامل زوج‌های کلید و مقدار می‌شوند. هر کلید به یک مقدار خاص نگاشت می‌شود.\n",
    "### دیکشنری‌ها با استفاده از آکولاد {} تعریف می‌شوند و کلیدها و مقادیر با استفاده از دو نقطه : از هم جدا می‌شوند."
   ]
  },
  {
   "cell_type": "code",
   "execution_count": 44,
   "id": "92f59e8c-ec41-4ade-b3b5-fb6fa823f4de",
   "metadata": {
    "tags": []
   },
   "outputs": [
    {
     "name": "stdout",
     "output_type": "stream",
     "text": [
      "دیکشنری دانش‌آموز: {'name': 'علی', 'age': 21, 'grade': 'A'}\n"
     ]
    }
   ],
   "source": [
    "# تعریف یک دیکشنری ساده\n",
    "student = {\n",
    "    \"name\": \"علی\",\n",
    "    \"age\": 21,\n",
    "    \"grade\": \"A\"\n",
    "}\n",
    "print(\"دیکشنری دانش‌آموز:\", student)"
   ]
  },
  {
   "cell_type": "code",
   "execution_count": 46,
   "id": "5aedc8da-3a1e-4d8e-8603-6e7e8807f055",
   "metadata": {
    "tags": []
   },
   "outputs": [
    {
     "name": "stdout",
     "output_type": "stream",
     "text": [
      "نام دانش‌آموز: علی\n",
      "سن دانش‌آموز: 21\n"
     ]
    }
   ],
   "source": [
    "# دسترسی به مقادیر دیکشنری با استفاده از کلید\n",
    "print(\"نام دانش‌آموز:\", student[\"name\"])\n",
    "print(\"سن دانش‌آموز:\", student[\"age\"])\n"
   ]
  },
  {
   "cell_type": "code",
   "execution_count": 48,
   "id": "f1bbd878-e094-449a-9293-fb71b7db0d8b",
   "metadata": {
    "tags": []
   },
   "outputs": [
    {
     "name": "stdout",
     "output_type": "stream",
     "text": [
      "دیکشنری به‌روزرسانی شده: {'name': 'علی', 'age': 22, 'grade': 'A', 'major': 'کامپیوتر'}\n"
     ]
    }
   ],
   "source": [
    "# اضافه کردن یا به‌روزرسانی یک کلید و مقدار\n",
    "student[\"age\"] = 22  # update\n",
    "student[\"major\"] = \"کامپیوتر\"  # add\n",
    "print(\"دیکشنری به‌روزرسانی شده:\", student)"
   ]
  },
  {
   "cell_type": "code",
   "execution_count": 50,
   "id": "60ddfe56-4b3a-46a8-9625-4030d10977f1",
   "metadata": {
    "tags": []
   },
   "outputs": [
    {
     "name": "stdout",
     "output_type": "stream",
     "text": [
      "بعد از حذف کلید grade: {'name': 'علی', 'age': 22, 'major': 'کامپیوتر'}\n"
     ]
    }
   ],
   "source": [
    "# حذف یک کلید و مقدار با استفاده از `del`\n",
    "del student[\"grade\"]  # delete\n",
    "print(\"بعد از حذف کلید grade:\", student)"
   ]
  },
  {
   "cell_type": "code",
   "execution_count": 52,
   "id": "16514b1c-543d-4380-b133-8effcdb5a5fc",
   "metadata": {
    "tags": []
   },
   "outputs": [
    {
     "name": "stdout",
     "output_type": "stream",
     "text": [
      "بعد از حذف کلید major با استفاده از pop: {'name': 'علی', 'age': 22}\n",
      "مقدار حذف شده: کامپیوتر\n"
     ]
    }
   ],
   "source": [
    "# استفاده از `pop` برای حذف یک کلید و مقدار و بازگشت مقدار آن\n",
    "major = student.pop(\"major\")  \n",
    "print(\"بعد از حذف کلید major با استفاده از pop:\", student)\n",
    "print(\"مقدار حذف شده:\", major)"
   ]
  },
  {
   "cell_type": "code",
   "execution_count": 54,
   "id": "ca7482df-1671-4591-b5a1-91817310a7fd",
   "metadata": {
    "tags": []
   },
   "outputs": [
    {
     "name": "stdout",
     "output_type": "stream",
     "text": [
      "کلید name در دیکشنری وجود دارد.\n"
     ]
    }
   ],
   "source": [
    "# بررسی وجود یک کلید در دیکشنری\n",
    "if \"name\" in student: \n",
    "    print(\"کلید name در دیکشنری وجود دارد.\")"
   ]
  },
  {
   "cell_type": "code",
   "execution_count": 56,
   "id": "20d151ef-8df4-4b0f-9763-3b141ab5dc49",
   "metadata": {
    "tags": []
   },
   "outputs": [
    {
     "name": "stdout",
     "output_type": "stream",
     "text": [
      "کلیدها: dict_keys(['name', 'age'])\n",
      "مقادیر: dict_values(['علی', 22])\n",
      "زوج‌های کلید و مقدار: dict_items([('name', 'علی'), ('age', 22)])\n"
     ]
    }
   ],
   "source": [
    "# دسترسی به تمام کلیدها و مقادیر دیکشنری\n",
    "print(\"کلیدها:\", student.keys())  \n",
    "print(\"مقادیر:\", student.values())\n",
    "print(\"زوج‌های کلید و مقدار:\", student.items()) "
   ]
  },
  {
   "cell_type": "code",
   "execution_count": 58,
   "id": "03a35d4d-f6a3-4afa-81fd-1f89de2b41b1",
   "metadata": {
    "tags": []
   },
   "outputs": [
    {
     "name": "stdout",
     "output_type": "stream",
     "text": [
      "کلیدها و مقادیر دیکشنری:\n",
      "name : علی\n",
      "age : 22\n"
     ]
    }
   ],
   "source": [
    "# حلقه برای تکرار روی دیکشنری\n",
    "print(\"کلیدها و مقادیر دیکشنری:\")\n",
    "for key, value in student.items():  \n",
    "    print(key, \":\", value)\n"
   ]
  },
  {
   "cell_type": "code",
   "execution_count": 60,
   "id": "fa871127-9383-4dc5-aba8-f32c51ff92bc",
   "metadata": {
    "tags": []
   },
   "outputs": [
    {
     "name": "stdout",
     "output_type": "stream",
     "text": [
      "دیکشنری بعد از ادغام: {'name': 'علی', 'age': 22, 'GPA': 3.8, 'graduated': False}\n"
     ]
    }
   ],
   "source": [
    "# ادغام دو دیکشنری با استفاده از update\n",
    "additional_info = {\"GPA\": 3.8, \"graduated\": False}\n",
    "student.update(additional_info)  \n",
    "print(\"دیکشنری بعد از ادغام:\", student)"
   ]
  },
  {
   "cell_type": "code",
   "execution_count": 62,
   "id": "20d67e48-db6e-462f-9481-13ef9623b410",
   "metadata": {
    "tags": []
   },
   "outputs": [
    {
     "name": "stdout",
     "output_type": "stream",
     "text": [
      "دیکشنری دانش‌آموزان: {'student1': {'name': 'علی', 'age': 21}, 'student2': {'name': 'مریم', 'age': 22}}\n",
      "اطلاعات student1: {'name': 'علی', 'age': 21}\n"
     ]
    }
   ],
   "source": [
    "# استفاده از دیکشنری‌های تو در تو\n",
    "students = {\n",
    "    \"student1\": {\"name\": \"علی\", \"age\": 21},\n",
    "    \"student2\": {\"name\": \"مریم\", \"age\": 22}\n",
    "}\n",
    "print(\"دیکشنری دانش‌آموزان:\", students)\n",
    "print(\"اطلاعات student1:\", students[\"student1\"])\n"
   ]
  },
  {
   "cell_type": "code",
   "execution_count": 64,
   "id": "7c2960d7-c920-4ec7-9f8d-ac4ce09bb238",
   "metadata": {
    "tags": []
   },
   "outputs": [
    {
     "name": "stdout",
     "output_type": "stream",
     "text": [
      "نام student2: مریم\n"
     ]
    }
   ],
   "source": [
    "# دسترسی به عناصر در دیکشنری‌های تو در تو\n",
    "print(\"نام student2:\", students[\"student2\"][\"name\"])"
   ]
  },
  {
   "cell_type": "code",
   "execution_count": 66,
   "id": "3c7dc898-f5d7-4df7-899a-21e3dc5a4c48",
   "metadata": {
    "tags": []
   },
   "outputs": [
    {
     "name": "stdout",
     "output_type": "stream",
     "text": [
      "رشته تحصیلی: نامشخص\n"
     ]
    }
   ],
   "source": [
    "# استفاده از get برای دسترسی به مقادیر با مقدار پیش‌فرض\n",
    "print(\"رشته تحصیلی:\", student.get(\"major\", \"نامشخص\"))  "
   ]
  },
  {
   "cell_type": "code",
   "execution_count": 68,
   "id": "c1ce2f18-edcb-4e48-aedf-de0e5fb55c92",
   "metadata": {
    "tags": []
   },
   "outputs": [
    {
     "name": "stdout",
     "output_type": "stream",
     "text": [
      "دیکشنری بعد از پاک کردن تمام عناصر: {}\n"
     ]
    }
   ],
   "source": [
    "# پاک کردن تمام عناصر دیکشنری\n",
    "student.clear()  # clear\n",
    "print(\"دیکشنری بعد از پاک کردن تمام عناصر:\", student)"
   ]
  },
  {
   "cell_type": "code",
   "execution_count": 70,
   "id": "97d61aaf-b3d3-44e7-9c7a-a0ee8f39e7e2",
   "metadata": {
    "tags": []
   },
   "outputs": [
    {
     "name": "stdout",
     "output_type": "stream",
     "text": [
      "اعداد و مربع آن‌ها: {1: 1, 2: 4, 3: 9, 4: 16, 5: 25}\n"
     ]
    }
   ],
   "source": [
    "# تعریف دیکشنری با استفاده از دیکشنری کامپرهنشن\n",
    "squared_numbers = {x: x ** 2 for x in range(1, 6)}  # dictionary comprehension\n",
    "print(\"اعداد و مربع آن‌ها:\", squared_numbers)"
   ]
  },
  {
   "cell_type": "code",
   "execution_count": null,
   "id": "d6d03323-b2c9-4b0a-99e7-05175fd3f568",
   "metadata": {},
   "outputs": [],
   "source": []
  }
 ],
 "metadata": {
  "kernelspec": {
   "display_name": "Python 3 (ipykernel)",
   "language": "python",
   "name": "python3"
  },
  "language_info": {
   "codemirror_mode": {
    "name": "ipython",
    "version": 3
   },
   "file_extension": ".py",
   "mimetype": "text/x-python",
   "name": "python",
   "nbconvert_exporter": "python",
   "pygments_lexer": "ipython3",
   "version": "3.10.13"
  }
 },
 "nbformat": 4,
 "nbformat_minor": 5
}
