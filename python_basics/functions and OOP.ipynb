{
 "cells": [
  {
   "cell_type": "markdown",
   "id": "8dfeb9bc-6c5f-4509-bd15-2aaca143df44",
   "metadata": {
    "tags": []
   },
   "source": [
    "# آموزش جامع برنامه‌نویسی شی‌ءگرا (OOP) و توابع در پایتون"
   ]
  },
  {
   "cell_type": "markdown",
   "id": "a5f94c09-3486-4ad0-b7c5-67466f281f18",
   "metadata": {
    "tags": []
   },
   "source": [
    "## توابع (Functions)\n",
    "### توابع قطعاتی از کد هستند که یک کار خاص را انجام می‌دهند. توابع به ما کمک می‌کنند تا کدهای ما ساختارمند و قابل استفاده مجدد باشند."
   ]
  },
  {
   "cell_type": "code",
   "execution_count": 13,
   "id": "c8eef857-793d-4322-8bc8-79126f583cb6",
   "metadata": {
    "tags": []
   },
   "outputs": [
    {
     "name": "stdout",
     "output_type": "stream",
     "text": [
      "سلام علی\n"
     ]
    }
   ],
   "source": [
    "# تعریف یک تابع ساده\n",
    "def greet(name):  \n",
    "    print(\"سلام\", name)\n",
    "\n",
    "# فراخوانی تابع\n",
    "greet(\"علی\") "
   ]
  },
  {
   "cell_type": "code",
   "execution_count": 17,
   "id": "62ec2573-7f34-4528-8851-4f7349c84cac",
   "metadata": {
    "tags": []
   },
   "outputs": [
    {
     "name": "stdout",
     "output_type": "stream",
     "text": [
      "نتیجه جمع: 7\n"
     ]
    }
   ],
   "source": [
    "# تابع با مقدار بازگشتی\n",
    "def add(a, b):  \n",
    "    return a + b  \n",
    "\n",
    "# استفاده از تابع با مقدار بازگشتی\n",
    "result = add(3, 4) \n",
    "print(\"نتیجه جمع:\", result)"
   ]
  },
  {
   "cell_type": "code",
   "execution_count": 21,
   "id": "5f7b773b-4e40-4e11-b089-d77972ce9b4e",
   "metadata": {
    "tags": []
   },
   "outputs": [
    {
     "name": "stdout",
     "output_type": "stream",
     "text": [
      "صبح بخیر مریم\n",
      "عصر بخیر رضا\n"
     ]
    }
   ],
   "source": [
    "# تابع با پارامترهای پیش‌فرض\n",
    "def greet_with_message(name, message=\"صبح بخیر\"):  \n",
    "    print(message, name)\n",
    "\n",
    "# فراخوانی تابع با پارامتر پیش‌فرض\n",
    "greet_with_message(\"مریم\") \n",
    "greet_with_message(\"رضا\", \"عصر بخیر\")  "
   ]
  },
  {
   "cell_type": "code",
   "execution_count": 23,
   "id": "b6b17d2f-473f-496f-b057-4834df52a83c",
   "metadata": {
    "tags": []
   },
   "outputs": [
    {
     "name": "stdout",
     "output_type": "stream",
     "text": [
      "نام: علی\n",
      "نام: مریم\n",
      "نام: رضا\n"
     ]
    }
   ],
   "source": [
    "# تابع با تعداد متغیر پارامترها\n",
    "def print_names(*names):  \n",
    "    for name in names: \n",
    "        print(\"نام:\", name)\n",
    "\n",
    "# فراخوانی تابع با تعداد متغیر پارامترها\n",
    "print_names(\"علی\", \"مریم\", \"رضا\")  "
   ]
  },
  {
   "cell_type": "code",
   "execution_count": 25,
   "id": "5071a275-e8fc-4f86-859c-b952a7b5e302",
   "metadata": {
    "tags": []
   },
   "outputs": [
    {
     "name": "stdout",
     "output_type": "stream",
     "text": [
      "name : علی\n",
      "age : 21\n",
      "major : مهندسی\n"
     ]
    }
   ],
   "source": [
    "# تابع با پارامترهای کلیدی متغیر\n",
    "def print_student_info(**info):  \n",
    "    for key, value in info.items():  \n",
    "        print(key, \":\", value)\n",
    "\n",
    "# فراخوانی تابع با پارامترهای کلیدی متغیر\n",
    "print_student_info(name=\"علی\", age=21, major=\"مهندسی\")  \n"
   ]
  },
  {
   "cell_type": "code",
   "execution_count": 27,
   "id": "ec4f0f0c-ad39-4fc9-9400-08d5d582184f",
   "metadata": {
    "tags": []
   },
   "outputs": [
    {
     "name": "stdout",
     "output_type": "stream",
     "text": [
      "سلام به همه\n"
     ]
    }
   ],
   "source": [
    "# تعریف تابع درون تابع دیگر\n",
    "def outer_function(text):  \n",
    "    def inner_function():  \n",
    "        print(text)\n",
    "    inner_function()  \n",
    "\n",
    "# فراخوانی تابع بیرونی\n",
    "outer_function(\"سلام به همه\") "
   ]
  },
  {
   "cell_type": "markdown",
   "id": "7a830efe-ef17-4ddb-aeff-5c3e28e69417",
   "metadata": {},
   "source": [
    "### lambda function\n",
    "\n",
    "تابع لامبدا یک تابع کوچک ناشناس میباشد که در یک خط تعریف می شود"
   ]
  },
  {
   "cell_type": "code",
   "execution_count": 74,
   "id": "29af3322-d0f2-4584-ba42-679e3cbaee42",
   "metadata": {
    "tags": []
   },
   "outputs": [
    {
     "name": "stdout",
     "output_type": "stream",
     "text": [
      "30\n"
     ]
    }
   ],
   "source": [
    "# تعریف یک تابع لامبدای ساده\n",
    "simple_l = lambda a,b : a*b\n",
    "print(simple_l(5,6))"
   ]
  },
  {
   "cell_type": "code",
   "execution_count": 72,
   "id": "e7b0cb18-fcbd-4944-8022-90a961dd2fa9",
   "metadata": {
    "tags": []
   },
   "outputs": [
    {
     "name": "stdout",
     "output_type": "stream",
     "text": [
      "شرط برقرار نیست  :  8\n",
      "شرط برقرار است  :   6\n"
     ]
    }
   ],
   "source": [
    "# ترکیب تایع لامبدا با شرط\n",
    "lambda_with_if = lambda x , y , z: (x + y) if (z == 0) else (x * y)\n",
    "print(f'شرط برقرار نیست  :  {lambda_with_if(2,4,3)}')\n",
    "print(f'شرط برقرار است  :   {lambda_with_if(2,4,0)}')\n"
   ]
  },
  {
   "cell_type": "code",
   "execution_count": 78,
   "id": "c039dd96-bdbd-477f-ad4f-8288e8c970b7",
   "metadata": {
    "tags": []
   },
   "outputs": [
    {
     "name": "stdout",
     "output_type": "stream",
     "text": [
      "[0, 2, 4, 6, 8, 10, 1, 3, 5, 7, 9]\n"
     ]
    }
   ],
   "source": [
    "# ترکیب لامبدا با دستور ها\n",
    "nums = [0,1,2,3,4,5,6,7,8,9,10]\n",
    "sort_lambda = sorted(nums , key= lambda x : x%2)\n",
    "\n",
    "print(sort_lambda)"
   ]
  },
  {
   "cell_type": "markdown",
   "id": "d53d0cd8-a7cc-4548-8e1b-d669e0bd13cb",
   "metadata": {},
   "source": [
    "## برنامه‌نویسی شی‌ءگرا (Object-Oriented Programming - OOP)\n",
    "### OOP یک پارادایم برنامه‌نویسی است که از اشیاء و کلاس‌ها برای سازماندهی کد استفاده می‌کند.\n"
   ]
  },
  {
   "cell_type": "code",
   "execution_count": 30,
   "id": "a6780048-7a97-482c-aaa0-055435ec0ab3",
   "metadata": {
    "tags": []
   },
   "outputs": [],
   "source": [
    "# تعریف یک کلاس ساده\n",
    "class Student:  \n",
    "    def __init__(self, name, age, major):  \n",
    "        self.name = name \n",
    "        self.age = age  \n",
    "        self.major = major  \n",
    "\n",
    "    def display_info(self): \n",
    "        print(\"نام:\", self.name)  \n",
    "        print(\"سن:\", self.age) \n",
    "        print(\"رشته:\", self.major)  \n"
   ]
  },
  {
   "cell_type": "code",
   "execution_count": 32,
   "id": "42e227f8-84d5-4b50-89e2-1ee0137ccccc",
   "metadata": {
    "tags": []
   },
   "outputs": [
    {
     "name": "stdout",
     "output_type": "stream",
     "text": [
      "نام: علی\n",
      "سن: 21\n",
      "رشته: مهندسی کامپیوتر\n"
     ]
    }
   ],
   "source": [
    "# ایجاد یک شیء از کلاس Student\n",
    "student1 = Student(\"علی\", 21, \"مهندسی کامپیوتر\")  # instance\n",
    "student1.display_info()  # call"
   ]
  },
  {
   "cell_type": "code",
   "execution_count": 34,
   "id": "3b8a0338-e796-45a3-b19b-bb076875c5c3",
   "metadata": {
    "tags": []
   },
   "outputs": [],
   "source": [
    "# تعریف یک کلاس با متدهای اضافی\n",
    "class Circle: \n",
    "    def __init__(self, radius): \n",
    "        self.radius = radius  \n",
    "\n",
    "    def area(self): \n",
    "        return 3.14159 * (self.radius ** 2)\n",
    "\n",
    "    def circumference(self):  \n",
    "        return 2 * 3.14159 * self.radius\n"
   ]
  },
  {
   "cell_type": "code",
   "execution_count": 36,
   "id": "923f5bbf-b4d0-443e-9868-be285af3adb7",
   "metadata": {
    "tags": []
   },
   "outputs": [
    {
     "name": "stdout",
     "output_type": "stream",
     "text": [
      "مساحت دایره: 78.53975\n",
      "محیط دایره: 31.4159\n"
     ]
    }
   ],
   "source": [
    "# ایجاد اشیاء از کلاس Circle\n",
    "circle1 = Circle(5)  # instance\n",
    "print(\"مساحت دایره:\", circle1.area())  # call\n",
    "print(\"محیط دایره:\", circle1.circumference())  # call\n"
   ]
  },
  {
   "cell_type": "markdown",
   "id": "6f43d209-e2b0-4fa4-8834-66b0b46452f1",
   "metadata": {},
   "source": [
    "### وراثت (Inheritance)\n",
    "##### وراثت به ما امکان می‌دهد که یک کلاس جدید از یک کلاس موجود ایجاد کنیم و ویژگی‌ها و متدهای آن را به ارث ببریم."
   ]
  },
  {
   "cell_type": "code",
   "execution_count": 39,
   "id": "abc7900d-f87b-4a5c-8b58-dfcb926d3552",
   "metadata": {
    "tags": []
   },
   "outputs": [],
   "source": [
    "class Person:  \n",
    "    def __init__(self, name, age):  \n",
    "        self.name = name  \n",
    "        self.age = age \n",
    "\n",
    "    def display(self):  \n",
    "        print(\"نام:\", self.name)  \n",
    "        print(\"سن:\", self.age) \n"
   ]
  },
  {
   "cell_type": "code",
   "execution_count": 41,
   "id": "1596d8df-8a0d-4807-b774-b7af0af84a73",
   "metadata": {
    "tags": []
   },
   "outputs": [],
   "source": [
    "# تعریف کلاس جدید که از کلاس Person ارث می‌برد\n",
    "class Student(Person):  \n",
    "    def __init__(self, name, age, major):  \n",
    "        super().__init__(name, age)  \n",
    "        self.major = major  \n",
    "\n",
    "    def display(self):  \n",
    "        super().display()  \n",
    "        print(\"رشته:\", self.major)  \n"
   ]
  },
  {
   "cell_type": "code",
   "execution_count": 43,
   "id": "47640473-5519-4ef0-accc-373d9e1efa29",
   "metadata": {
    "tags": []
   },
   "outputs": [
    {
     "name": "stdout",
     "output_type": "stream",
     "text": [
      "نام: مریم\n",
      "سن: 22\n",
      "رشته: مهندسی برق\n"
     ]
    }
   ],
   "source": [
    "# ایجاد یک شیء از کلاس Student که از کلاس Person ارث می‌برد\n",
    "student2 = Student(\"مریم\", 22, \"مهندسی برق\")  \n",
    "student2.display()  # call\n"
   ]
  },
  {
   "cell_type": "markdown",
   "id": "215be61d-a73b-4652-a7d6-11a38eb197e0",
   "metadata": {},
   "source": [
    "### چندریختی (Polymorphism)\n",
    "#### چندریختی به ما امکان می‌دهد که از متدهای با نام مشابه در کلاس‌های مختلف استفاده کنیم."
   ]
  },
  {
   "cell_type": "code",
   "execution_count": 46,
   "id": "b06e5c19-3a7c-479c-8b73-da51a4ce3752",
   "metadata": {
    "tags": []
   },
   "outputs": [],
   "source": [
    "class Cat:  \n",
    "    def sound(self):  \n",
    "        return \"میو\"\n",
    "\n",
    "class Dog:  \n",
    "    def sound(self):  \n",
    "        return \"واق واق\""
   ]
  },
  {
   "cell_type": "code",
   "execution_count": 48,
   "id": "ede78591-7c79-41f0-963c-b8e6997d8ffe",
   "metadata": {
    "tags": []
   },
   "outputs": [
    {
     "name": "stdout",
     "output_type": "stream",
     "text": [
      "میو\n",
      "واق واق\n"
     ]
    }
   ],
   "source": [
    "# استفاده از چندریختی\n",
    "animals = [Cat(), Dog()]  \n",
    "for animal in animals: \n",
    "    print(animal.sound())  "
   ]
  },
  {
   "cell_type": "markdown",
   "id": "c3f5dc45-60c5-4acd-a92f-ea97aa12cc14",
   "metadata": {
    "tags": []
   },
   "source": [
    "### ترکیب OOP و توابع در یک مثال نهایی"
   ]
  },
  {
   "cell_type": "code",
   "execution_count": 50,
   "id": "c0734dc8-6b59-44b4-ae0f-da0a97317e66",
   "metadata": {
    "tags": []
   },
   "outputs": [],
   "source": [
    "\n",
    "class BankAccount:  \n",
    "    def __init__(self, owner, balance=0):  \n",
    "        self.owner = owner \n",
    "        self.balance = balance  \n",
    "\n",
    "    def deposit(self, amount):  \n",
    "        if amount > 0: \n",
    "            self.balance += amount  \n",
    "            print(f\"{amount} تومان به حساب اضافه شد. موجودی فعلی: {self.balance}\")\n",
    "        else:\n",
    "            print(\"مبلغ باید مثبت باشد.\")\n",
    "\n",
    "    def withdraw(self, amount):  \n",
    "        if 0 < amount <= self.balance:  \n",
    "            self.balance -= amount \n",
    "            print(f\"{amount} تومان از حساب برداشت شد. موجودی فعلی: {self.balance}\")\n",
    "        else:\n",
    "            print(\"مبلغ برداشت نامعتبر است.\")"
   ]
  },
  {
   "cell_type": "code",
   "execution_count": 52,
   "id": "b94913c2-d1d6-4699-bfa3-ca46866b692f",
   "metadata": {
    "tags": []
   },
   "outputs": [
    {
     "name": "stdout",
     "output_type": "stream",
     "text": [
      "500 تومان به حساب اضافه شد. موجودی فعلی: 1500\n",
      "300 تومان از حساب برداشت شد. موجودی فعلی: 1200\n",
      "مبلغ برداشت نامعتبر است.\n"
     ]
    }
   ],
   "source": [
    "# ایجاد و استفاده از یک حساب بانکی\n",
    "account = BankAccount(\"علی\", 1000)  \n",
    "account.deposit(500)  \n",
    "account.withdraw(300) \n",
    "account.withdraw(1500) "
   ]
  },
  {
   "cell_type": "code",
   "execution_count": null,
   "id": "0c832e30-ed24-4088-b8dd-76ce01be3c06",
   "metadata": {},
   "outputs": [],
   "source": []
  },
  {
   "cell_type": "code",
   "execution_count": null,
   "id": "32ef4803-2de0-4045-8124-1220cdaa3ed0",
   "metadata": {},
   "outputs": [],
   "source": []
  }
 ],
 "metadata": {
  "kernelspec": {
   "display_name": "Python 3 (ipykernel)",
   "language": "python",
   "name": "python3"
  },
  "language_info": {
   "codemirror_mode": {
    "name": "ipython",
    "version": 3
   },
   "file_extension": ".py",
   "mimetype": "text/x-python",
   "name": "python",
   "nbconvert_exporter": "python",
   "pygments_lexer": "ipython3",
   "version": "3.10.13"
  }
 },
 "nbformat": 4,
 "nbformat_minor": 5
}
