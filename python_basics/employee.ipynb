{
 "cells": [
  {
   "cell_type": "code",
   "execution_count": 14,
   "id": "5b841491-492c-46e5-83dc-568ca21a72c9",
   "metadata": {
    "tags": []
   },
   "outputs": [
    {
     "name": "stdout",
     "output_type": "stream",
     "text": [
      "اطلاعات مدیر:\n",
      "نام: علی\n",
      "شماره کارمندی: M001\n",
      "حقوق: 5000\n",
      "دپارتمان: فنی\n",
      "\n",
      "اطلاعات توسعه‌دهنده:\n",
      "نام: مریم\n",
      "شماره کارمندی: D001\n",
      "حقوق: 4000\n",
      "زبان برنامه‌نویسی: پایتون\n",
      "\n",
      "پاداش مدیر (10%): 500.0\n",
      "پاداش توسعه‌دهنده (15%): 600.0\n"
     ]
    }
   ],
   "source": [
    "# تعریف کلاس پایه Employee\n",
    "class Employee: \n",
    "    # تعریف سازنده کلاس\n",
    "    def __init__(self, name, id_number, salary):  \n",
    "        self.name = name \n",
    "        self.id_number = id_number  \n",
    "        self.salary = salary  \n",
    "\n",
    "    # متد نمایش اطلاعات کارمند\n",
    "    def display_info(self): \n",
    "        print(f\"نام: {self.name}\")\n",
    "        print(f\"شماره کارمندی: {self.id_number}\")\n",
    "        print(f\"حقوق: {self.salary}\")\n",
    "\n",
    "    # تعریف متد ایستا برای محاسبه پاداش\n",
    "    @staticmethod \n",
    "    def calculate_bonus(salary, bonus_percentage):  \n",
    "        return salary * bonus_percentage / 100\n",
    "\n",
    "# تعریف کلاس Manager که از کلاس Employee ارث‌بری می‌کند\n",
    "class Manager(Employee):  \n",
    "    def __init__(self, name, id_number, salary, department):  \n",
    "        super().__init__(name, id_number, salary) \n",
    "        self.department = department  \n",
    "\n",
    "    # متد نمایش اطلاعات مدیر (Override)\n",
    "    def display_info(self): \n",
    "        super().display_info() \n",
    "        print(f\"دپارتمان: {self.department}\")\n",
    "\n",
    "# تعریف کلاس Developer که از کلاس Employee ارث‌بری می‌کند\n",
    "class Developer(Employee):  \n",
    "    def __init__(self, name, id_number, salary, programming_language):  \n",
    "        super().__init__(name, id_number, salary)\n",
    "        self.programming_language = programming_language \n",
    "\n",
    "    # متد نمایش اطلاعات توسعه‌دهنده (Override)\n",
    "    def display_info(self): \n",
    "        super().display_info()  \n",
    "        print(f\"زبان برنامه‌نویسی: {self.programming_language}\")\n",
    "\n",
    "# ایجاد اشیاء از کلاس‌های مشتق شده\n",
    "manager = Manager(\"علی\", \"M001\", 5000, \"فنی\") \n",
    "developer = Developer(\"مریم\", \"D001\", 4000, \"پایتون\")  \n",
    "\n",
    "# نمایش اطلاعات مدیر و توسعه‌دهنده\n",
    "print(\"اطلاعات مدیر:\")\n",
    "manager.display_info() \n",
    "\n",
    "print(\"\\nاطلاعات توسعه‌دهنده:\")\n",
    "developer.display_info()  \n",
    "\n",
    "# استفاده از متد ایستا برای محاسبه پاداش\n",
    "manager_bonus = Manager.calculate_bonus(manager.salary, 10)  \n",
    "developer_bonus = Developer.calculate_bonus(developer.salary, 15) \n",
    "\n",
    "print(f\"\\nپاداش مدیر (10%): {manager_bonus}\")\n",
    "print(f\"پاداش توسعه‌دهنده (15%): {developer_bonus}\")\n"
   ]
  },
  {
   "cell_type": "code",
   "execution_count": null,
   "id": "e944ed10-efd2-4796-adca-2e963446b254",
   "metadata": {},
   "outputs": [],
   "source": []
  }
 ],
 "metadata": {
  "kernelspec": {
   "display_name": "Python 3 (ipykernel)",
   "language": "python",
   "name": "python3"
  },
  "language_info": {
   "codemirror_mode": {
    "name": "ipython",
    "version": 3
   },
   "file_extension": ".py",
   "mimetype": "text/x-python",
   "name": "python",
   "nbconvert_exporter": "python",
   "pygments_lexer": "ipython3",
   "version": "3.10.13"
  }
 },
 "nbformat": 4,
 "nbformat_minor": 5
}
