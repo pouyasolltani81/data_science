{
 "cells": [
  {
   "cell_type": "markdown",
   "id": "303f0e6a-3f84-49c0-9d51-62852195b71d",
   "metadata": {
    "tags": []
   },
   "source": [
    "# آموزش جامع لیست‌ها در پایتون"
   ]
  },
  {
   "cell_type": "markdown",
   "id": "64c5049e-e03f-44b4-abd3-90958e34a921",
   "metadata": {},
   "source": [
    "## لیست‌ها (Lists)\n",
    "### لیست‌ها در پایتون نوع داده‌ای هستند که می‌توانند چندین عنصر را ذخیره کنند. عناصر لیست می‌توانند انواع داده‌ای مختلفی داشته باشند.\n",
    "### یک لیست با استفاده از براکت‌های [] تعریف می‌شود و عناصر آن با کاما از هم جدا می‌شوند."
   ]
  },
  {
   "cell_type": "code",
   "execution_count": 60,
   "id": "8009a1fb-21ca-4159-9681-7dd155ec43f5",
   "metadata": {
    "tags": []
   },
   "outputs": [
    {
     "name": "stdout",
     "output_type": "stream",
     "text": [
      "لیست اعداد: [1, 2, 3, 4, 5]\n"
     ]
    }
   ],
   "source": [
    "# تعریف یک لیست از اعداد\n",
    "numbers = [1, 2, 3, 4, 5]\n",
    "print(\"لیست اعداد:\", numbers)"
   ]
  },
  {
   "cell_type": "code",
   "execution_count": 62,
   "id": "21ef2d19-fb38-4713-8d58-747ccadba01b",
   "metadata": {
    "tags": []
   },
   "outputs": [
    {
     "name": "stdout",
     "output_type": "stream",
     "text": [
      "لیست ترکیبی: [1, 'سلام', 3.14, True]\n"
     ]
    }
   ],
   "source": [
    "# تعریف یک لیست ترکیبی از انواع داده‌ای مختلف\n",
    "mixed_list = [1, \"سلام\", 3.14, True]\n",
    "print(\"لیست ترکیبی:\", mixed_list)"
   ]
  },
  {
   "cell_type": "code",
   "execution_count": 64,
   "id": "ab722cdd-b236-45ee-a578-af841399a51b",
   "metadata": {
    "tags": []
   },
   "outputs": [
    {
     "name": "stdout",
     "output_type": "stream",
     "text": [
      "اولین عنصر در لیست اعداد: 1\n",
      "آخرین عنصر در لیست اعداد: 5\n"
     ]
    }
   ],
   "source": [
    "# دسترسی به عناصر لیست با استفاده از ایندکس\n",
    "print(\"اولین عنصر در لیست اعداد:\", numbers[0])\n",
    "print(\"آخرین عنصر در لیست اعداد:\", numbers[-1])"
   ]
  },
  {
   "cell_type": "code",
   "execution_count": 66,
   "id": "26eaca87-4497-4220-bb7b-2d45f627ab65",
   "metadata": {
    "tags": []
   },
   "outputs": [
    {
     "name": "stdout",
     "output_type": "stream",
     "text": [
      "بعد از تغییر مقدار عنصر سوم: [1, 2, 10, 4, 5]\n"
     ]
    }
   ],
   "source": [
    "# تغییر مقدار یک عنصر در لیست\n",
    "numbers[2] = 10\n",
    "print(\"بعد از تغییر مقدار عنصر سوم:\", numbers)"
   ]
  },
  {
   "cell_type": "code",
   "execution_count": 68,
   "id": "aa5e1ec8-5227-4c38-8b25-4ad5109b755d",
   "metadata": {
    "tags": []
   },
   "outputs": [
    {
     "name": "stdout",
     "output_type": "stream",
     "text": [
      "بعد از اضافه کردن یک عنصر جدید: [1, 2, 10, 4, 5, 6]\n"
     ]
    }
   ],
   "source": [
    "# اضافه کردن یک عنصر جدید به انتهای لیست\n",
    "numbers.append(6) \n",
    "print(\"بعد از اضافه کردن یک عنصر جدید:\", numbers)"
   ]
  },
  {
   "cell_type": "code",
   "execution_count": 70,
   "id": "1942b2e8-84e2-4f2d-9d99-cc5f1095b4ff",
   "metadata": {
    "tags": []
   },
   "outputs": [
    {
     "name": "stdout",
     "output_type": "stream",
     "text": [
      "بعد از اضافه کردن چندین عنصر جدید: [1, 2, 10, 4, 5, 6, 7, 8, 9]\n"
     ]
    }
   ],
   "source": [
    "# اضافه کردن چندین عنصر جدید به انتهای لیست\n",
    "numbers.extend([7, 8, 9]) \n",
    "print(\"بعد از اضافه کردن چندین عنصر جدید:\", numbers)"
   ]
  },
  {
   "cell_type": "code",
   "execution_count": 72,
   "id": "5620c475-9b6a-4110-a803-ba9459af04f7",
   "metadata": {
    "tags": []
   },
   "outputs": [
    {
     "name": "stdout",
     "output_type": "stream",
     "text": [
      "بعد از اضافه کردن یک عنصر جدید در موقعیت دوم: [1, 15, 2, 10, 4, 5, 6, 7, 8, 9]\n"
     ]
    }
   ],
   "source": [
    "# اضافه کردن یک عنصر جدید در یک موقعیت مشخص\n",
    "numbers.insert(1, 15) \n",
    "print(\"بعد از اضافه کردن یک عنصر جدید در موقعیت دوم:\", numbers)"
   ]
  },
  {
   "cell_type": "code",
   "execution_count": 74,
   "id": "0ebab4c1-46da-46ab-ac34-b7441c2e3c16",
   "metadata": {
    "tags": []
   },
   "outputs": [
    {
     "name": "stdout",
     "output_type": "stream",
     "text": [
      "بعد از حذف عنصر با مقدار 10: [1, 15, 2, 4, 5, 6, 7, 8, 9]\n"
     ]
    }
   ],
   "source": [
    "# حذف یک عنصر از لیست با استفاده از مقدار آن\n",
    "numbers.remove(10) \n",
    "print(\"بعد از حذف عنصر با مقدار 10:\", numbers)"
   ]
  },
  {
   "cell_type": "code",
   "execution_count": 76,
   "id": "ace7523f-98f7-4cae-b799-5f577b65b04b",
   "metadata": {
    "tags": []
   },
   "outputs": [
    {
     "name": "stdout",
     "output_type": "stream",
     "text": [
      "بعد از حذف عنصر سوم: [1, 15, 4, 5, 6, 7, 8, 9]\n",
      "عنصر حذف شده: 2\n"
     ]
    }
   ],
   "source": [
    "# حذف یک عنصر از لیست با استفاده از ایندکس\n",
    "removed_element = numbers.pop(2) \n",
    "print(\"بعد از حذف عنصر سوم:\", numbers)\n",
    "print(\"عنصر حذف شده:\", removed_element)"
   ]
  },
  {
   "cell_type": "code",
   "execution_count": 78,
   "id": "a0f5f023-1e61-4fe3-a59f-b8eca6fa1494",
   "metadata": {},
   "outputs": [
    {
     "name": "stdout",
     "output_type": "stream",
     "text": [
      "ایندکس عنصر 15 در لیست: 1\n"
     ]
    }
   ],
   "source": [
    "# پیدا کردن ایندکس یک عنصر در لیست\n",
    "index_of_element = numbers.index(15) \n",
    "print(\"ایندکس عنصر 15 در لیست:\", index_of_element)"
   ]
  },
  {
   "cell_type": "code",
   "execution_count": 80,
   "id": "2b3c8c96-84ba-4027-ba59-b9a852ce61e1",
   "metadata": {
    "tags": []
   },
   "outputs": [
    {
     "name": "stdout",
     "output_type": "stream",
     "text": [
      "تعداد وقوع عنصر 6 در لیست: 1\n"
     ]
    }
   ],
   "source": [
    "# شمارش تعداد وقوع یک عنصر در لیست\n",
    "count_of_element = numbers.count(6) \n",
    "print(\"تعداد وقوع عنصر 6 در لیست:\", count_of_element)"
   ]
  },
  {
   "cell_type": "code",
   "execution_count": 82,
   "id": "2e294eb6-03eb-479c-b429-f0b7e31212e6",
   "metadata": {
    "tags": []
   },
   "outputs": [
    {
     "name": "stdout",
     "output_type": "stream",
     "text": [
      "لیست مرتب شده: [1, 4, 5, 6, 7, 8, 9, 15]\n"
     ]
    }
   ],
   "source": [
    "# مرتب‌سازی لیست\n",
    "numbers.sort() \n",
    "print(\"لیست مرتب شده:\", numbers)"
   ]
  },
  {
   "cell_type": "code",
   "execution_count": 84,
   "id": "a8d1b33f-8715-4171-98a1-0249b4b44463",
   "metadata": {
    "tags": []
   },
   "outputs": [
    {
     "name": "stdout",
     "output_type": "stream",
     "text": [
      "لیست برعکس شده: [15, 9, 8, 7, 6, 5, 4, 1]\n"
     ]
    }
   ],
   "source": [
    "# برعکس کردن ترتیب عناصر لیست\n",
    "numbers.reverse()  \n",
    "print(\"لیست برعکس شده:\", numbers)"
   ]
  },
  {
   "cell_type": "code",
   "execution_count": 86,
   "id": "93a564a2-d23e-4958-a742-9bbc10db934e",
   "metadata": {
    "tags": []
   },
   "outputs": [
    {
     "name": "stdout",
     "output_type": "stream",
     "text": [
      "لیست کپی شده: [15, 9, 8, 7, 6, 5, 4, 1]\n"
     ]
    }
   ],
   "source": [
    "# کپی کردن لیست\n",
    "copied_list = numbers.copy()  \n",
    "print(\"لیست کپی شده:\", copied_list)"
   ]
  },
  {
   "cell_type": "code",
   "execution_count": 88,
   "id": "562f8352-2abb-49b5-8a5f-f21262a1e086",
   "metadata": {
    "tags": []
   },
   "outputs": [
    {
     "name": "stdout",
     "output_type": "stream",
     "text": [
      "لیست بعد از پاک کردن تمام عناصر: []\n"
     ]
    }
   ],
   "source": [
    "# پاک کردن تمام عناصر لیست\n",
    "numbers.clear() \n",
    "print(\"لیست بعد از پاک کردن تمام عناصر:\", numbers)"
   ]
  },
  {
   "cell_type": "code",
   "execution_count": 90,
   "id": "16b3aa2a-047f-45e2-b1cb-adece09eee08",
   "metadata": {
    "tags": []
   },
   "outputs": [
    {
     "name": "stdout",
     "output_type": "stream",
     "text": [
      "عناصر لیست کپی شده:\n",
      "15\n",
      "9\n",
      "8\n",
      "7\n",
      "6\n",
      "5\n",
      "4\n",
      "1\n"
     ]
    }
   ],
   "source": [
    "# حلقه برای تکرار روی عناصر لیست\n",
    "print(\"عناصر لیست کپی شده:\")\n",
    "for number in copied_list:  \n",
    "    print(number)"
   ]
  },
  {
   "cell_type": "code",
   "execution_count": 92,
   "id": "d18d961f-cda4-459c-9649-f16386a2cf7c",
   "metadata": {
    "tags": []
   },
   "outputs": [
    {
     "name": "stdout",
     "output_type": "stream",
     "text": [
      "بررسی وجود عنصر 8 در لیست کپی شده:\n",
      "عنصر 8 در لیست وجود دارد.\n"
     ]
    }
   ],
   "source": [
    "# استفاده از لیست‌ها در شرط‌ها\n",
    "print(\"بررسی وجود عنصر 8 در لیست کپی شده:\")\n",
    "if 8 in copied_list:  \n",
    "    print(\"عنصر 8 در لیست وجود دارد.\")\n",
    "else:  \n",
    "    print(\"عنصر 8 در لیست وجود ندارد.\")"
   ]
  },
  {
   "cell_type": "code",
   "execution_count": 94,
   "id": "ce5501a4-76fa-46a1-b462-44ec40dd83a6",
   "metadata": {
    "tags": []
   },
   "outputs": [
    {
     "name": "stdout",
     "output_type": "stream",
     "text": [
      "چاپ عناصر لیست به همراه ایندکس آن‌ها:\n",
      "ایندکس 0 عنصر 15\n",
      "ایندکس 1 عنصر 9\n",
      "ایندکس 2 عنصر 8\n",
      "ایندکس 3 عنصر 7\n",
      "ایندکس 4 عنصر 6\n",
      "ایندکس 5 عنصر 5\n",
      "ایندکس 6 عنصر 4\n",
      "ایندکس 7 عنصر 1\n"
     ]
    }
   ],
   "source": [
    "# استفاده از لیست‌ها با حلقه‌های تو در تو\n",
    "print(\"چاپ عناصر لیست به همراه ایندکس آن‌ها:\")\n",
    "for i in range(len(copied_list)):  \n",
    "    print(\"ایندکس\", i, \"عنصر\", copied_list[i])"
   ]
  },
  {
   "cell_type": "code",
   "execution_count": 96,
   "id": "dc56bca0-220a-425c-8c1c-d9397afd6059",
   "metadata": {
    "tags": []
   },
   "outputs": [
    {
     "name": "stdout",
     "output_type": "stream",
     "text": [
      "لیست تودرتو: [[1, 2, 3], [4, 5, 6], [7, 8, 9]]\n",
      "دسترسی به عنصر 5 در لیست تودرتو: 5\n"
     ]
    }
   ],
   "source": [
    "# لیست‌های تودرتو (Nested Lists)\n",
    "nested_list = [[1, 2, 3], [4, 5, 6], [7, 8, 9]]\n",
    "print(\"لیست تودرتو:\", nested_list)\n",
    "print(\"دسترسی به عنصر 5 در لیست تودرتو:\", nested_list[1][1])"
   ]
  },
  {
   "cell_type": "code",
   "execution_count": 98,
   "id": "f10cb51e-4e35-4bc6-83d2-2e4e08acaca7",
   "metadata": {
    "tags": []
   },
   "outputs": [
    {
     "name": "stdout",
     "output_type": "stream",
     "text": [
      "عناصر لیست تودرتو:\n",
      "1\n",
      "2\n",
      "3\n",
      "4\n",
      "5\n",
      "6\n",
      "7\n",
      "8\n",
      "9\n"
     ]
    }
   ],
   "source": [
    "# حلقه برای تکرار روی عناصر لیست تودرتو\n",
    "print(\"عناصر لیست تودرتو:\")\n",
    "for sublist in nested_list: \n",
    "    for item in sublist: \n",
    "        print(item)"
   ]
  },
  {
   "cell_type": "code",
   "execution_count": 106,
   "id": "3e3ef9fd-6576-4ba4-bd0f-91d92ea5ccd8",
   "metadata": {
    "tags": []
   },
   "outputs": [
    {
     "name": "stdout",
     "output_type": "stream",
     "text": [
      "[2, 10, 8, 12, 16, 22, 6, 24]\n",
      "['CAT', 'DOG']\n"
     ]
    }
   ],
   "source": [
    "# استفاده از تابع map در داخل یک لیست\n",
    "my_list = [1,5,4,6,8,11,3,12]\n",
    "new_list = list(map(lambda x : x*2 , my_list))\n",
    "print(new_list)\n",
    "\n",
    "\n",
    "my_list = ['cat', 'dog']\n",
    "new_list = list(map(lambda x : x.upper() , my_list))\n",
    "print(new_list)\n",
    "\n"
   ]
  },
  {
   "cell_type": "code",
   "execution_count": 108,
   "id": "cd7b662e-66ea-4bcf-b750-b73cc6f1388a",
   "metadata": {
    "tags": []
   },
   "outputs": [
    {
     "name": "stdout",
     "output_type": "stream",
     "text": [
      "[4, 6, 8, 12]\n"
     ]
    }
   ],
   "source": [
    "# استفاده از دستور filter در لیست\n",
    "my_list = [1,5,4,6,8,11,3,12]\n",
    "new_list = list(filter(lambda x : (x%2 == 0) , my_list))\n",
    "print(new_list)"
   ]
  },
  {
   "cell_type": "code",
   "execution_count": null,
   "id": "90f5ac3d-1a68-46b5-a612-0dcd4599b2d3",
   "metadata": {},
   "outputs": [],
   "source": []
  }
 ],
 "metadata": {
  "kernelspec": {
   "display_name": "Python 3 (ipykernel)",
   "language": "python",
   "name": "python3"
  },
  "language_info": {
   "codemirror_mode": {
    "name": "ipython",
    "version": 3
   },
   "file_extension": ".py",
   "mimetype": "text/x-python",
   "name": "python",
   "nbconvert_exporter": "python",
   "pygments_lexer": "ipython3",
   "version": "3.10.13"
  }
 },
 "nbformat": 4,
 "nbformat_minor": 5
}
