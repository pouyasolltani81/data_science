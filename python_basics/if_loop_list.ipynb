{
 "cells": [
  {
   "cell_type": "markdown",
   "id": "45fb1c87-5662-4a9f-8237-dd965eb27404",
   "metadata": {
    "tags": []
   },
   "source": [
    "# آموزش جامع شرط‌ها (if statements) در پایتون"
   ]
  },
  {
   "cell_type": "markdown",
   "id": "4e319bd2-86d3-43b4-9d0d-e9a2db5f302f",
   "metadata": {},
   "source": [
    "## شرط‌ها (If Statements)\n",
    " شرط‌ها به ما امکان می‌دهند که تصمیم‌گیری کنیم و مسیر اجرای کد را بر اساس شرایط مشخص تغییر دهیم.\n",
    "    \n",
    " یک عبارت شرطی با استفاده از `if` تعریف می‌شود و می‌تواند شامل `elif` و `else` نیز باشد."
   ]
  },
  {
   "cell_type": "code",
   "execution_count": 9,
   "id": "3d5f00c2-c5d6-4dd1-b24f-c08fa481427e",
   "metadata": {
    "tags": []
   },
   "outputs": [
    {
     "name": "stdout",
     "output_type": "stream",
     "text": [
      "7 بزرگتر از 5 است.\n"
     ]
    }
   ],
   "source": [
    "# ساده‌ترین شکل شرط\n",
    "number = 7\n",
    "if number > 5: \n",
    "    print(number, \"بزرگتر از 5 است.\")"
   ]
  },
  {
   "cell_type": "code",
   "execution_count": 42,
   "id": "6009e29c-9fa5-4ad6-ba03-c92ed7db9561",
   "metadata": {
    "tags": []
   },
   "outputs": [
    {
     "name": "stdout",
     "output_type": "stream",
     "text": [
      "15 یک عدد فرد است.\n"
     ]
    }
   ],
   "source": [
    "# استفاده از شرط `else`\n",
    "if number % 2 == 0: \n",
    "    print(number, \"یک عدد زوج است.\")\n",
    "else: \n",
    "    print(number, \"یک عدد فرد است.\")\n"
   ]
  },
  {
   "cell_type": "code",
   "execution_count": 13,
   "id": "359a059b-15c5-43a7-8f48-75b72e8e451a",
   "metadata": {
    "tags": []
   },
   "outputs": [
    {
     "name": "stdout",
     "output_type": "stream",
     "text": [
      "جوان\n"
     ]
    }
   ],
   "source": [
    "# استفاده از شرط `elif`\n",
    "age = 25\n",
    "if age < 18:  \n",
    "    print(\"نوجوان\")\n",
    "elif age < 35: \n",
    "    print(\"جوان\")\n",
    "else:  \n",
    "    print(\"میانسال\")\n"
   ]
  },
  {
   "cell_type": "code",
   "execution_count": 15,
   "id": "3179cf7d-8931-49df-bf6d-09a3cb2e3b8d",
   "metadata": {
    "tags": []
   },
   "outputs": [
    {
     "name": "stdout",
     "output_type": "stream",
     "text": [
      "نمره: B\n"
     ]
    }
   ],
   "source": [
    "# استفاده از چندین شرط `elif`\n",
    "score = 85\n",
    "if score >= 90: \n",
    "    grade = \"A\"\n",
    "elif score >= 80:  \n",
    "    grade = \"B\"\n",
    "elif score >= 70:  \n",
    "    grade = \"C\"\n",
    "elif score >= 60:  \n",
    "    grade = \"D\"\n",
    "else:  \n",
    "    grade = \"F\"\n",
    "print(\"نمره:\", grade)"
   ]
  },
  {
   "cell_type": "code",
   "execution_count": 29,
   "id": "40297c3d-35ad-4dc7-949c-af0f3abc9dcf",
   "metadata": {
    "tags": []
   },
   "outputs": [
    {
     "name": "stdout",
     "output_type": "stream",
     "text": [
      "مریم در لیست وجود دارد.\n"
     ]
    }
   ],
   "source": [
    "# استفاده از شرط‌ها برای بررسی وجود در لیست\n",
    "names = [\"علی\", \"مریم\", \"رضا\", \"زهرا\"]\n",
    "name_to_check = \"مریم\"\n",
    "if name_to_check in names:  \n",
    "    print(name_to_check, \"در لیست وجود دارد.\")\n",
    "else:  \n",
    "    print(name_to_check, \"در لیست وجود ندارد.\")"
   ]
  },
  {
   "cell_type": "code",
   "execution_count": 31,
   "id": "7c728761-a45f-4a4f-87bb-e5613df574f3",
   "metadata": {
    "tags": []
   },
   "outputs": [
    {
     "name": "stdout",
     "output_type": "stream",
     "text": [
      "هوا گرم و مرطوب است.\n"
     ]
    }
   ],
   "source": [
    "# ترکیب شرط‌ها با استفاده از عملگرهای منطقی\n",
    "temperature = 30\n",
    "humidity = 70\n",
    "if temperature > 25 and humidity > 60:  \n",
    "    print(\"هوا گرم و مرطوب است.\")\n",
    "elif temperature > 25 and humidity <= 60:  \n",
    "    print(\"هوا گرم و خشک است.\")\n",
    "else:  \n",
    "    print(\"هوا معتدل است.\")\n"
   ]
  },
  {
   "cell_type": "code",
   "execution_count": 33,
   "id": "8a60d66b-c336-4ef5-906d-33c6d166fcfb",
   "metadata": {
    "tags": []
   },
   "outputs": [
    {
     "name": "stdout",
     "output_type": "stream",
     "text": [
      "7: عدد فرد\n",
      "10: عدد زوج\n"
     ]
    }
   ],
   "source": [
    "# استفاده از شرط‌ها در توابع\n",
    "def check_even_odd(number):\n",
    "    if number % 2 == 0:  \n",
    "        return \"عدد زوج\"\n",
    "    else: \n",
    "        return \"عدد فرد\"\n",
    "\n",
    "print(\"7:\", check_even_odd(7))\n",
    "print(\"10:\", check_even_odd(10))"
   ]
  },
  {
   "cell_type": "code",
   "execution_count": 35,
   "id": "07b948af-b9cd-4980-a0e7-76131a5bdd6a",
   "metadata": {
    "tags": []
   },
   "outputs": [
    {
     "name": "stdout",
     "output_type": "stream",
     "text": [
      "15 یک عدد مثبت فرد است.\n"
     ]
    }
   ],
   "source": [
    "# شرط‌های تودرتو (Nested If Statements)\n",
    "number = 15\n",
    "if number > 0: \n",
    "    if number % 2 == 0: \n",
    "        print(number, \"یک عدد مثبت زوج است.\")\n",
    "    else:  \n",
    "        print(number, \"یک عدد مثبت فرد است.\")\n",
    "else: \n",
    "    print(number, \"یک عدد منفی است.\")"
   ]
  },
  {
   "cell_type": "code",
   "execution_count": 37,
   "id": "f055ce3a-ea6f-45d5-bec9-623bcc1aa7ff",
   "metadata": {
    "tags": []
   },
   "outputs": [
    {
     "name": "stdout",
     "output_type": "stream",
     "text": [
      "سن 10: کودک\n",
      "سن 15: نوجوان\n",
      "سن 45: بزرگسال\n",
      "سن 75: سالمند\n"
     ]
    }
   ],
   "source": [
    "# استفاده از شرط‌ها برای دسته‌بندی\n",
    "def categorize_age(age):\n",
    "    if age < 13:  \n",
    "        return \"کودک\"\n",
    "    elif age < 20: \n",
    "        return \"نوجوان\"\n",
    "    elif age < 60:  \n",
    "        return \"بزرگسال\"\n",
    "    else: \n",
    "        return \"سالمند\"\n",
    "\n",
    "print(\"سن 10:\", categorize_age(10))\n",
    "print(\"سن 15:\", categorize_age(15))\n",
    "print(\"سن 45:\", categorize_age(45))\n",
    "print(\"سن 75:\", categorize_age(75))"
   ]
  },
  {
   "cell_type": "code",
   "execution_count": 39,
   "id": "3bf0d74e-2420-4bf7-9024-04e8ace2dc90",
   "metadata": {
    "tags": []
   },
   "outputs": [
    {
     "name": "stdout",
     "output_type": "stream",
     "text": [
      "وضعیت دانش‌آموزان:\n",
      "علی : خوب\n",
      "مریم : خوب\n",
      "رضا : قابل قبول\n",
      "زهرا : عالی\n"
     ]
    }
   ],
   "source": [
    "# ترکیب شرط‌ها، لیست‌ها و حلقه‌ها در یک مثال نهایی\n",
    "students_scores = [(\"علی\", 75), (\"مریم\", 85), (\"رضا\", 55), (\"زهرا\", 95)]\n",
    "print(\"وضعیت دانش‌آموزان:\")\n",
    "for student, score in students_scores:  \n",
    "    if score >= 90: \n",
    "        status = \"عالی\"\n",
    "    elif score >= 70: \n",
    "        status = \"خوب\"\n",
    "    elif score >= 50:  \n",
    "        status = \"قابل قبول\"\n",
    "    else: \n",
    "        status = \"نیاز به تلاش بیشتر\"\n",
    "    print(student, \":\", status)"
   ]
  },
  {
   "cell_type": "markdown",
   "id": "303f0e6a-3f84-49c0-9d51-62852195b71d",
   "metadata": {
    "tags": []
   },
   "source": [
    "# آموزش جامع لیست‌ها در پایتون"
   ]
  },
  {
   "cell_type": "markdown",
   "id": "64c5049e-e03f-44b4-abd3-90958e34a921",
   "metadata": {},
   "source": [
    "## لیست‌ها (Lists)\n",
    "### لیست‌ها در پایتون نوع داده‌ای هستند که می‌توانند چندین عنصر را ذخیره کنند. عناصر لیست می‌توانند انواع داده‌ای مختلفی داشته باشند.\n",
    "### یک لیست با استفاده از براکت‌های [] تعریف می‌شود و عناصر آن با کاما از هم جدا می‌شوند."
   ]
  },
  {
   "cell_type": "code",
   "execution_count": 60,
   "id": "8009a1fb-21ca-4159-9681-7dd155ec43f5",
   "metadata": {
    "tags": []
   },
   "outputs": [
    {
     "name": "stdout",
     "output_type": "stream",
     "text": [
      "لیست اعداد: [1, 2, 3, 4, 5]\n"
     ]
    }
   ],
   "source": [
    "# تعریف یک لیست از اعداد\n",
    "numbers = [1, 2, 3, 4, 5]\n",
    "print(\"لیست اعداد:\", numbers)"
   ]
  },
  {
   "cell_type": "code",
   "execution_count": 62,
   "id": "21ef2d19-fb38-4713-8d58-747ccadba01b",
   "metadata": {
    "tags": []
   },
   "outputs": [
    {
     "name": "stdout",
     "output_type": "stream",
     "text": [
      "لیست ترکیبی: [1, 'سلام', 3.14, True]\n"
     ]
    }
   ],
   "source": [
    "# تعریف یک لیست ترکیبی از انواع داده‌ای مختلف\n",
    "mixed_list = [1, \"سلام\", 3.14, True]\n",
    "print(\"لیست ترکیبی:\", mixed_list)"
   ]
  },
  {
   "cell_type": "code",
   "execution_count": 64,
   "id": "ab722cdd-b236-45ee-a578-af841399a51b",
   "metadata": {
    "tags": []
   },
   "outputs": [
    {
     "name": "stdout",
     "output_type": "stream",
     "text": [
      "اولین عنصر در لیست اعداد: 1\n",
      "آخرین عنصر در لیست اعداد: 5\n"
     ]
    }
   ],
   "source": [
    "# دسترسی به عناصر لیست با استفاده از ایندکس\n",
    "print(\"اولین عنصر در لیست اعداد:\", numbers[0])\n",
    "print(\"آخرین عنصر در لیست اعداد:\", numbers[-1])"
   ]
  },
  {
   "cell_type": "code",
   "execution_count": 66,
   "id": "26eaca87-4497-4220-bb7b-2d45f627ab65",
   "metadata": {
    "tags": []
   },
   "outputs": [
    {
     "name": "stdout",
     "output_type": "stream",
     "text": [
      "بعد از تغییر مقدار عنصر سوم: [1, 2, 10, 4, 5]\n"
     ]
    }
   ],
   "source": [
    "# تغییر مقدار یک عنصر در لیست\n",
    "numbers[2] = 10\n",
    "print(\"بعد از تغییر مقدار عنصر سوم:\", numbers)"
   ]
  },
  {
   "cell_type": "code",
   "execution_count": 68,
   "id": "aa5e1ec8-5227-4c38-8b25-4ad5109b755d",
   "metadata": {
    "tags": []
   },
   "outputs": [
    {
     "name": "stdout",
     "output_type": "stream",
     "text": [
      "بعد از اضافه کردن یک عنصر جدید: [1, 2, 10, 4, 5, 6]\n"
     ]
    }
   ],
   "source": [
    "# اضافه کردن یک عنصر جدید به انتهای لیست\n",
    "numbers.append(6) \n",
    "print(\"بعد از اضافه کردن یک عنصر جدید:\", numbers)"
   ]
  },
  {
   "cell_type": "code",
   "execution_count": 70,
   "id": "1942b2e8-84e2-4f2d-9d99-cc5f1095b4ff",
   "metadata": {
    "tags": []
   },
   "outputs": [
    {
     "name": "stdout",
     "output_type": "stream",
     "text": [
      "بعد از اضافه کردن چندین عنصر جدید: [1, 2, 10, 4, 5, 6, 7, 8, 9]\n"
     ]
    }
   ],
   "source": [
    "# اضافه کردن چندین عنصر جدید به انتهای لیست\n",
    "numbers.extend([7, 8, 9]) \n",
    "print(\"بعد از اضافه کردن چندین عنصر جدید:\", numbers)"
   ]
  },
  {
   "cell_type": "code",
   "execution_count": 72,
   "id": "5620c475-9b6a-4110-a803-ba9459af04f7",
   "metadata": {
    "tags": []
   },
   "outputs": [
    {
     "name": "stdout",
     "output_type": "stream",
     "text": [
      "بعد از اضافه کردن یک عنصر جدید در موقعیت دوم: [1, 15, 2, 10, 4, 5, 6, 7, 8, 9]\n"
     ]
    }
   ],
   "source": [
    "# اضافه کردن یک عنصر جدید در یک موقعیت مشخص\n",
    "numbers.insert(1, 15) \n",
    "print(\"بعد از اضافه کردن یک عنصر جدید در موقعیت دوم:\", numbers)"
   ]
  },
  {
   "cell_type": "code",
   "execution_count": 74,
   "id": "0ebab4c1-46da-46ab-ac34-b7441c2e3c16",
   "metadata": {
    "tags": []
   },
   "outputs": [
    {
     "name": "stdout",
     "output_type": "stream",
     "text": [
      "بعد از حذف عنصر با مقدار 10: [1, 15, 2, 4, 5, 6, 7, 8, 9]\n"
     ]
    }
   ],
   "source": [
    "# حذف یک عنصر از لیست با استفاده از مقدار آن\n",
    "numbers.remove(10) \n",
    "print(\"بعد از حذف عنصر با مقدار 10:\", numbers)"
   ]
  },
  {
   "cell_type": "code",
   "execution_count": 76,
   "id": "ace7523f-98f7-4cae-b799-5f577b65b04b",
   "metadata": {
    "tags": []
   },
   "outputs": [
    {
     "name": "stdout",
     "output_type": "stream",
     "text": [
      "بعد از حذف عنصر سوم: [1, 15, 4, 5, 6, 7, 8, 9]\n",
      "عنصر حذف شده: 2\n"
     ]
    }
   ],
   "source": [
    "# حذف یک عنصر از لیست با استفاده از ایندکس\n",
    "removed_element = numbers.pop(2) \n",
    "print(\"بعد از حذف عنصر سوم:\", numbers)\n",
    "print(\"عنصر حذف شده:\", removed_element)"
   ]
  },
  {
   "cell_type": "code",
   "execution_count": 78,
   "id": "a0f5f023-1e61-4fe3-a59f-b8eca6fa1494",
   "metadata": {},
   "outputs": [
    {
     "name": "stdout",
     "output_type": "stream",
     "text": [
      "ایندکس عنصر 15 در لیست: 1\n"
     ]
    }
   ],
   "source": [
    "# پیدا کردن ایندکس یک عنصر در لیست\n",
    "index_of_element = numbers.index(15) \n",
    "print(\"ایندکس عنصر 15 در لیست:\", index_of_element)"
   ]
  },
  {
   "cell_type": "code",
   "execution_count": 80,
   "id": "2b3c8c96-84ba-4027-ba59-b9a852ce61e1",
   "metadata": {
    "tags": []
   },
   "outputs": [
    {
     "name": "stdout",
     "output_type": "stream",
     "text": [
      "تعداد وقوع عنصر 6 در لیست: 1\n"
     ]
    }
   ],
   "source": [
    "# شمارش تعداد وقوع یک عنصر در لیست\n",
    "count_of_element = numbers.count(6) \n",
    "print(\"تعداد وقوع عنصر 6 در لیست:\", count_of_element)"
   ]
  },
  {
   "cell_type": "code",
   "execution_count": 82,
   "id": "2e294eb6-03eb-479c-b429-f0b7e31212e6",
   "metadata": {
    "tags": []
   },
   "outputs": [
    {
     "name": "stdout",
     "output_type": "stream",
     "text": [
      "لیست مرتب شده: [1, 4, 5, 6, 7, 8, 9, 15]\n"
     ]
    }
   ],
   "source": [
    "# مرتب‌سازی لیست\n",
    "numbers.sort() \n",
    "print(\"لیست مرتب شده:\", numbers)"
   ]
  },
  {
   "cell_type": "code",
   "execution_count": 84,
   "id": "a8d1b33f-8715-4171-98a1-0249b4b44463",
   "metadata": {
    "tags": []
   },
   "outputs": [
    {
     "name": "stdout",
     "output_type": "stream",
     "text": [
      "لیست برعکس شده: [15, 9, 8, 7, 6, 5, 4, 1]\n"
     ]
    }
   ],
   "source": [
    "# برعکس کردن ترتیب عناصر لیست\n",
    "numbers.reverse()  \n",
    "print(\"لیست برعکس شده:\", numbers)"
   ]
  },
  {
   "cell_type": "code",
   "execution_count": 86,
   "id": "93a564a2-d23e-4958-a742-9bbc10db934e",
   "metadata": {
    "tags": []
   },
   "outputs": [
    {
     "name": "stdout",
     "output_type": "stream",
     "text": [
      "لیست کپی شده: [15, 9, 8, 7, 6, 5, 4, 1]\n"
     ]
    }
   ],
   "source": [
    "# کپی کردن لیست\n",
    "copied_list = numbers.copy()  \n",
    "print(\"لیست کپی شده:\", copied_list)"
   ]
  },
  {
   "cell_type": "code",
   "execution_count": 88,
   "id": "562f8352-2abb-49b5-8a5f-f21262a1e086",
   "metadata": {
    "tags": []
   },
   "outputs": [
    {
     "name": "stdout",
     "output_type": "stream",
     "text": [
      "لیست بعد از پاک کردن تمام عناصر: []\n"
     ]
    }
   ],
   "source": [
    "# پاک کردن تمام عناصر لیست\n",
    "numbers.clear() \n",
    "print(\"لیست بعد از پاک کردن تمام عناصر:\", numbers)"
   ]
  },
  {
   "cell_type": "code",
   "execution_count": 90,
   "id": "16b3aa2a-047f-45e2-b1cb-adece09eee08",
   "metadata": {
    "tags": []
   },
   "outputs": [
    {
     "name": "stdout",
     "output_type": "stream",
     "text": [
      "عناصر لیست کپی شده:\n",
      "15\n",
      "9\n",
      "8\n",
      "7\n",
      "6\n",
      "5\n",
      "4\n",
      "1\n"
     ]
    }
   ],
   "source": [
    "# حلقه برای تکرار روی عناصر لیست\n",
    "print(\"عناصر لیست کپی شده:\")\n",
    "for number in copied_list:  \n",
    "    print(number)"
   ]
  },
  {
   "cell_type": "code",
   "execution_count": 92,
   "id": "d18d961f-cda4-459c-9649-f16386a2cf7c",
   "metadata": {
    "tags": []
   },
   "outputs": [
    {
     "name": "stdout",
     "output_type": "stream",
     "text": [
      "بررسی وجود عنصر 8 در لیست کپی شده:\n",
      "عنصر 8 در لیست وجود دارد.\n"
     ]
    }
   ],
   "source": [
    "# استفاده از لیست‌ها در شرط‌ها\n",
    "print(\"بررسی وجود عنصر 8 در لیست کپی شده:\")\n",
    "if 8 in copied_list:  \n",
    "    print(\"عنصر 8 در لیست وجود دارد.\")\n",
    "else:  \n",
    "    print(\"عنصر 8 در لیست وجود ندارد.\")"
   ]
  },
  {
   "cell_type": "code",
   "execution_count": 94,
   "id": "ce5501a4-76fa-46a1-b462-44ec40dd83a6",
   "metadata": {
    "tags": []
   },
   "outputs": [
    {
     "name": "stdout",
     "output_type": "stream",
     "text": [
      "چاپ عناصر لیست به همراه ایندکس آن‌ها:\n",
      "ایندکس 0 عنصر 15\n",
      "ایندکس 1 عنصر 9\n",
      "ایندکس 2 عنصر 8\n",
      "ایندکس 3 عنصر 7\n",
      "ایندکس 4 عنصر 6\n",
      "ایندکس 5 عنصر 5\n",
      "ایندکس 6 عنصر 4\n",
      "ایندکس 7 عنصر 1\n"
     ]
    }
   ],
   "source": [
    "# استفاده از لیست‌ها با حلقه‌های تو در تو\n",
    "print(\"چاپ عناصر لیست به همراه ایندکس آن‌ها:\")\n",
    "for i in range(len(copied_list)):  \n",
    "    print(\"ایندکس\", i, \"عنصر\", copied_list[i])"
   ]
  },
  {
   "cell_type": "code",
   "execution_count": 96,
   "id": "dc56bca0-220a-425c-8c1c-d9397afd6059",
   "metadata": {
    "tags": []
   },
   "outputs": [
    {
     "name": "stdout",
     "output_type": "stream",
     "text": [
      "لیست تودرتو: [[1, 2, 3], [4, 5, 6], [7, 8, 9]]\n",
      "دسترسی به عنصر 5 در لیست تودرتو: 5\n"
     ]
    }
   ],
   "source": [
    "# لیست‌های تودرتو (Nested Lists)\n",
    "nested_list = [[1, 2, 3], [4, 5, 6], [7, 8, 9]]\n",
    "print(\"لیست تودرتو:\", nested_list)\n",
    "print(\"دسترسی به عنصر 5 در لیست تودرتو:\", nested_list[1][1])"
   ]
  },
  {
   "cell_type": "code",
   "execution_count": 98,
   "id": "f10cb51e-4e35-4bc6-83d2-2e4e08acaca7",
   "metadata": {
    "tags": []
   },
   "outputs": [
    {
     "name": "stdout",
     "output_type": "stream",
     "text": [
      "عناصر لیست تودرتو:\n",
      "1\n",
      "2\n",
      "3\n",
      "4\n",
      "5\n",
      "6\n",
      "7\n",
      "8\n",
      "9\n"
     ]
    }
   ],
   "source": [
    "# حلقه برای تکرار روی عناصر لیست تودرتو\n",
    "print(\"عناصر لیست تودرتو:\")\n",
    "for sublist in nested_list: \n",
    "    for item in sublist: \n",
    "        print(item)"
   ]
  },
  {
   "cell_type": "code",
   "execution_count": 106,
   "id": "3e3ef9fd-6576-4ba4-bd0f-91d92ea5ccd8",
   "metadata": {
    "tags": []
   },
   "outputs": [
    {
     "name": "stdout",
     "output_type": "stream",
     "text": [
      "[2, 10, 8, 12, 16, 22, 6, 24]\n",
      "['CAT', 'DOG']\n"
     ]
    }
   ],
   "source": [
    "# استفاده از تابع map در داخل یک لیست\n",
    "my_list = [1,5,4,6,8,11,3,12]\n",
    "new_list = list(map(lambda x : x*2 , my_list))\n",
    "print(new_list)\n",
    "\n",
    "\n",
    "my_list = ['cat', 'dog']\n",
    "new_list = list(map(lambda x : x.upper() , my_list))\n",
    "print(new_list)\n",
    "\n"
   ]
  },
  {
   "cell_type": "code",
   "execution_count": 108,
   "id": "cd7b662e-66ea-4bcf-b750-b73cc6f1388a",
   "metadata": {
    "tags": []
   },
   "outputs": [
    {
     "name": "stdout",
     "output_type": "stream",
     "text": [
      "[4, 6, 8, 12]\n"
     ]
    }
   ],
   "source": [
    "# استفاده از دستور filter در لیست\n",
    "my_list = [1,5,4,6,8,11,3,12]\n",
    "new_list = list(filter(lambda x : (x%2 == 0) , my_list))\n",
    "print(new_list)"
   ]
  },
  {
   "cell_type": "code",
   "execution_count": null,
   "id": "90f5ac3d-1a68-46b5-a612-0dcd4599b2d3",
   "metadata": {},
   "outputs": [],
   "source": []
  },
  {
   "cell_type": "markdown",
   "id": "26c6c97b-435b-447d-844b-d7e2d35f84fe",
   "metadata": {
    "tags": []
   },
   "source": [
    "# آموزش جامع حلقه‌ها (Loops) در پایتون\n",
    "\n",
    " حلقه‌ها به ما امکان می‌دهند که یک بخش از کد را چندین بار اجرا کنیم. دو نوع حلقه اصلی در پایتون وجود دارد: `for` و `while`.\n"
   ]
  },
  {
   "cell_type": "markdown",
   "id": "f2104832-af3c-41cb-be5b-d00dda93bb5d",
   "metadata": {},
   "source": [
    "\n",
    "## حلقه `for`\n",
    " حلقه `for` برای تکرار روی عناصر یک لیست یا هر شیء تکرارپذیر دیگر استفاده می‌شود."
   ]
  },
  {
   "cell_type": "code",
   "execution_count": 7,
   "id": "1f065eea-4f78-4c03-9143-ea7ce701be72",
   "metadata": {
    "tags": []
   },
   "outputs": [],
   "source": [
    "# تعریف یک لیست از اعداد\n",
    "numbers = [1, 2, 3, 4, 5]\n"
   ]
  },
  {
   "cell_type": "code",
   "execution_count": 35,
   "id": "240fb380-2a10-4362-a6d3-7b05e8115f55",
   "metadata": {
    "tags": []
   },
   "outputs": [
    {
     "name": "stdout",
     "output_type": "stream",
     "text": [
      "عناصر لیست:\n",
      "1\n",
      "2\n",
      "3\n",
      "4\n",
      "5\n"
     ]
    }
   ],
   "source": [
    "# تکرار روی عناصر لیست با استفاده از حلقه `for`\n",
    "print(\"عناصر لیست:\")\n",
    "for number in numbers: \n",
    "    print(number)"
   ]
  },
  {
   "cell_type": "code",
   "execution_count": 37,
   "id": "65dba720-aa8d-41f6-8ab9-798051bf8e57",
   "metadata": {
    "tags": []
   },
   "outputs": [
    {
     "name": "stdout",
     "output_type": "stream",
     "text": [
      "\n",
      "حروف در کلمه:\n",
      "س\n",
      "ل\n",
      "ا\n",
      "م\n"
     ]
    }
   ],
   "source": [
    "# تکرار روی رشته‌ها\n",
    "word = \"سلام\"\n",
    "print(\"\\nحروف در کلمه:\")\n",
    "for letter in word:  \n",
    "    print(letter)\n"
   ]
  },
  {
   "cell_type": "code",
   "execution_count": 39,
   "id": "c4b26b4e-a221-4062-ba5b-d807a25d390f",
   "metadata": {
    "tags": []
   },
   "outputs": [
    {
     "name": "stdout",
     "output_type": "stream",
     "text": [
      "\n",
      "اعداد از 0 تا 4:\n",
      "0\n",
      "1\n",
      "2\n",
      "3\n",
      "4\n"
     ]
    }
   ],
   "source": [
    "# استفاده از تابع range برای تولید اعداد\n",
    "print(\"\\nاعداد از 0 تا 4:\")\n",
    "for i in range(5):  \n",
    "    print(i)"
   ]
  },
  {
   "cell_type": "code",
   "execution_count": 41,
   "id": "ff608f8e-b8ab-4c9b-b2b7-15c256bc70b6",
   "metadata": {
    "tags": []
   },
   "outputs": [
    {
     "name": "stdout",
     "output_type": "stream",
     "text": [
      "\n",
      "اعداد از 5 تا 9:\n",
      "5\n",
      "6\n",
      "7\n",
      "8\n",
      "9\n"
     ]
    }
   ],
   "source": [
    "# استفاده از range با شروع و پایان مشخص\n",
    "print(\"\\nاعداد از 5 تا 9:\")\n",
    "for i in range(5, 10):  \n",
    "    print(i)"
   ]
  },
  {
   "cell_type": "code",
   "execution_count": 43,
   "id": "c714ac3f-6d4f-4e8a-9949-f838622f0ed3",
   "metadata": {
    "tags": []
   },
   "outputs": [
    {
     "name": "stdout",
     "output_type": "stream",
     "text": [
      "\n",
      "اعداد از 0 تا 10 با گام 2:\n",
      "0\n",
      "2\n",
      "4\n",
      "6\n",
      "8\n",
      "10\n"
     ]
    }
   ],
   "source": [
    "# استفاده از range با گام مشخص\n",
    "print(\"\\nاعداد از 0 تا 10 با گام 2:\")\n",
    "for i in range(0, 11, 2):  \n",
    "    print(i)"
   ]
  },
  {
   "cell_type": "code",
   "execution_count": 47,
   "id": "8e3d46ea-8f96-41a0-8c77-bba000231907",
   "metadata": {
    "tags": []
   },
   "outputs": [
    {
     "name": "stdout",
     "output_type": "stream",
     "text": [
      "\n",
      "اعداد از 0 تا 10 با گام 2:\n",
      "10\n",
      "9\n",
      "8\n",
      "7\n",
      "6\n",
      "5\n",
      "4\n",
      "3\n",
      "2\n",
      "1\n",
      "0\n"
     ]
    }
   ],
   "source": [
    "# دستور reversed عناصر لیست را به شکل وارونه به ما میدهد\n",
    "\n",
    "print(\"\\nاعداد از 0 تا 10 به شکل وارونه 2:\")\n",
    "for i in reversed(range(0, 11)):  \n",
    "    print(i)"
   ]
  },
  {
   "cell_type": "code",
   "execution_count": 55,
   "id": "b25fe4da-78d8-4e89-9e5b-e84b9b977bf0",
   "metadata": {
    "tags": []
   },
   "outputs": [
    {
     "name": "stdout",
     "output_type": "stream",
     "text": [
      "apple\n",
      "banana\n",
      "orange\n",
      "pearl\n"
     ]
    }
   ],
   "source": [
    "# دستور sorted عناصر لیست را به شکل مرتب شده به ما میدهد\n",
    "basket = ['apple', 'orange' , 'apple' , 'pearl' , 'orange' , 'banana']\n",
    "for i in sorted(set(basket)):  \n",
    "    print(i)"
   ]
  },
  {
   "cell_type": "code",
   "execution_count": 57,
   "id": "f82bb9f1-e46e-4eba-89ef-94aea6285a94",
   "metadata": {
    "tags": []
   },
   "outputs": [
    {
     "name": "stdout",
     "output_type": "stream",
     "text": [
      "[0, 1, 2, 3, 4, 5, 6, 7, 8, 9]\n"
     ]
    }
   ],
   "source": [
    "# استفاده از for در یک حط\n",
    "one_line_for = [i for i in range(0,10)]\n",
    "print(one_line_for)"
   ]
  },
  {
   "cell_type": "code",
   "execution_count": 59,
   "id": "d88eea22-fbc5-444a-bc80-b7873b562a2a",
   "metadata": {
    "tags": []
   },
   "outputs": [
    {
     "name": "stdout",
     "output_type": "stream",
     "text": [
      "(0, 'apple')\n",
      "(1, 'orange')\n",
      "(2, 'apple')\n",
      "(3, 'pearl')\n",
      "(4, 'orange')\n",
      "(5, 'banana')\n"
     ]
    }
   ],
   "source": [
    "# دستور enumirate عناصر را به شکل تاپل برمیگرداند\n",
    "basket = ['apple', 'orange' , 'apple' , 'pearl' , 'orange' , 'banana']\n",
    "for i in enumerate(basket):  \n",
    "    print(i)"
   ]
  },
  {
   "cell_type": "code",
   "execution_count": 7,
   "id": "959752d1-ff3b-47f5-9b34-b3c34016a66b",
   "metadata": {
    "tags": []
   },
   "outputs": [
    {
     "name": "stdout",
     "output_type": "stream",
     "text": [
      "(100, 'apple')\n",
      "(101, 'orange')\n",
      "(102, 'apple')\n",
      "(103, 'pearl')\n",
      "(104, 'orange')\n",
      "(105, 'banana')\n"
     ]
    }
   ],
   "source": [
    "# استفاده از enumirate با شروع مشخص\n",
    "basket = ['apple', 'orange' , 'apple' , 'pearl' , 'orange' , 'banana']\n",
    "for i in enumerate(basket, 100):  \n",
    "    print(i)"
   ]
  },
  {
   "cell_type": "code",
   "execution_count": 9,
   "id": "301274e3-dd56-4ecf-be97-e77e028d29aa",
   "metadata": {
    "tags": []
   },
   "outputs": [
    {
     "name": "stdout",
     "output_type": "stream",
     "text": [
      "100 apple\n",
      "101 orange\n",
      "102 apple\n",
      "103 pearl\n",
      "104 orange\n",
      "105 banana\n"
     ]
    }
   ],
   "source": [
    "# استفاده از enumirate با شروع مشخص\n",
    "basket = ['apple', 'orange' , 'apple' , 'pearl' , 'orange' , 'banana']\n",
    "for count,ele in enumerate(basket, 100):  \n",
    "    print(count , ele)"
   ]
  },
  {
   "cell_type": "code",
   "execution_count": 11,
   "id": "49849693-d8f1-43f2-a881-b86211a75cd4",
   "metadata": {
    "tags": []
   },
   "outputs": [
    {
     "name": "stdout",
     "output_type": "stream",
     "text": [
      "میوه : apple    کیفیت : A\n",
      "میوه : orange    کیفیت : C\n",
      "میوه : pearl    کیفیت : B\n",
      "میوه : banana    کیفیت : F\n"
     ]
    }
   ],
   "source": [
    "# دستور zip , فرمت زیپ دو دنباله رو به شکل تاپل برمیگرداند\n",
    "basket = ['apple', 'orange' , 'pearl' , 'banana']\n",
    "quality = ['A' , 'C' , 'B' , 'F']\n",
    "for item,qu in zip(basket,quality):\n",
    "    print(f'میوه : {item}    کیفیت : {qu}')"
   ]
  },
  {
   "cell_type": "code",
   "execution_count": 13,
   "id": "4c89cb46-8262-414a-a3c8-ad98b9d34dc5",
   "metadata": {
    "tags": []
   },
   "outputs": [
    {
     "name": "stdout",
     "output_type": "stream",
     "text": [
      "what is your name ? it is lancelot\n",
      "what is your oquest ? it is the holy grail\n",
      "what is your favorit color ? it is blue\n"
     ]
    }
   ],
   "source": [
    "# دستور zip , فرمت زیپ دو دنباله رو به شکل تاپل برمیگرداند\n",
    "basket = ['name', 'oquest' , 'favorit color' ]\n",
    "quality = ['lancelot' , 'the holy grail' , 'blue']\n",
    "for q,a in zip(basket,quality):\n",
    "    print(f'what is your {q} ? it is {a}'.format(q,a))"
   ]
  },
  {
   "cell_type": "code",
   "execution_count": 14,
   "id": "1f2f7f1a-5248-49b1-8b0b-f47a5ffbd6a9",
   "metadata": {
    "tags": []
   },
   "outputs": [
    {
     "name": "stdout",
     "output_type": "stream",
     "text": [
      "\n",
      "حلقه‌های تودرتو:\n",
      "i: 0 j: 0\n",
      "i: 0 j: 1\n",
      "i: 1 j: 0\n",
      "i: 1 j: 1\n",
      "i: 2 j: 0\n",
      "i: 2 j: 1\n"
     ]
    }
   ],
   "source": [
    "# حلقه‌های تودرتو (Nested Loops)\n",
    "print(\"\\nحلقه‌های تودرتو:\")\n",
    "for i in range(3):  \n",
    "    for j in range(2): \n",
    "        print(\"i:\", i, \"j:\", j)\n"
   ]
  },
  {
   "cell_type": "markdown",
   "id": "5839f6e9-8a8e-4b2e-946b-826d72061bec",
   "metadata": {},
   "source": [
    "## حلقه `while`\n",
    " حلقه `while` تا زمانی که شرط برقرار باشد تکرار می‌کند."
   ]
  },
  {
   "cell_type": "code",
   "execution_count": 18,
   "id": "e9a071e4-59f2-4691-abb2-4eb843846297",
   "metadata": {
    "tags": []
   },
   "outputs": [
    {
     "name": "stdout",
     "output_type": "stream",
     "text": [
      "\n",
      "حلقه while:\n",
      "0\n",
      "1\n",
      "2\n",
      "3\n",
      "4\n"
     ]
    }
   ],
   "source": [
    "\n",
    "count = 0\n",
    "print(\"\\nحلقه while:\")\n",
    "while count < 5:  \n",
    "    print(count)\n",
    "    count += 1  # افزایش شمارنده\n"
   ]
  },
  {
   "cell_type": "code",
   "execution_count": 20,
   "id": "667779f7-0b67-45e6-b558-60a25fa7669f",
   "metadata": {
    "tags": []
   },
   "outputs": [
    {
     "name": "stdout",
     "output_type": "stream",
     "text": [
      "\n",
      "حلقه بی‌نهایت با break:\n",
      "0\n",
      "1\n",
      "2\n",
      "3\n",
      "4\n"
     ]
    }
   ],
   "source": [
    "\n",
    "# حلقه بی‌نهایت و استفاده از break برای متوقف کردن آن\n",
    "print(\"\\nحلقه بی‌نهایت با break:\")\n",
    "count = 0\n",
    "while True:  \n",
    "    print(count)\n",
    "    count += 1\n",
    "    if count >= 5:  \n",
    "        break"
   ]
  },
  {
   "cell_type": "markdown",
   "id": "21109fd1-5ade-4cbd-8baf-61b22aba3a02",
   "metadata": {},
   "source": [
    "## نکات تکمیلی"
   ]
  },
  {
   "cell_type": "code",
   "execution_count": 23,
   "id": "72e1e660-a466-4089-adeb-f363531e11cf",
   "metadata": {
    "tags": []
   },
   "outputs": [
    {
     "name": "stdout",
     "output_type": "stream",
     "text": [
      "\n",
      "استفاده از continue:\n",
      "0\n",
      "1\n",
      "3\n",
      "4\n"
     ]
    }
   ],
   "source": [
    "# استفاده از continue برای رد کردن یک تکرار\n",
    "print(\"\\nاستفاده از continue:\")\n",
    "for i in range(5):  \n",
    "    if i == 2: \n",
    "        continue\n",
    "    print(i)"
   ]
  },
  {
   "cell_type": "code",
   "execution_count": 25,
   "id": "c84eb29d-a99e-4a45-b2d7-24da03f967da",
   "metadata": {
    "tags": []
   },
   "outputs": [
    {
     "name": "stdout",
     "output_type": "stream",
     "text": [
      "\n",
      "استفاده از else با حلقه for:\n",
      "0\n",
      "1\n",
      "2\n",
      "3\n",
      "4\n",
      "حلقه به پایان رسید.\n",
      "\n",
      "استفاده از else با حلقه while:\n",
      "0\n",
      "1\n",
      "2\n",
      "3\n",
      "4\n",
      "حلقه به پایان رسید.\n"
     ]
    }
   ],
   "source": [
    "# استفاده از else با حلقه‌ها\n",
    "print(\"\\nاستفاده از else با حلقه for:\")\n",
    "for i in range(5): \n",
    "    print(i)\n",
    "else: \n",
    "    print(\"حلقه به پایان رسید.\")\n",
    "\n",
    "print(\"\\nاستفاده از else با حلقه while:\")\n",
    "count = 0\n",
    "while count < 5: \n",
    "    print(count)\n",
    "    count += 1\n",
    "else: \n",
    "    print(\"حلقه به پایان رسید.\")\n"
   ]
  },
  {
   "cell_type": "code",
   "execution_count": 27,
   "id": "caf56fc0-3f1f-4275-bcf5-3ae747a17089",
   "metadata": {
    "tags": []
   },
   "outputs": [
    {
     "name": "stdout",
     "output_type": "stream",
     "text": [
      "\n",
      "عناصر لیست تودرتو:\n",
      "1\n",
      "2\n",
      "3\n",
      "4\n",
      "5\n",
      "6\n",
      "7\n",
      "8\n",
      "9\n"
     ]
    }
   ],
   "source": [
    "# حلقه‌ها با لیست‌های تودرتو\n",
    "nested_list = [[1, 2, 3], [4, 5, 6], [7, 8, 9]]\n",
    "print(\"\\nعناصر لیست تودرتو:\")\n",
    "for sublist in nested_list: \n",
    "    for item in sublist: \n",
    "        print(item)\n"
   ]
  }
 ],
 "metadata": {
  "kernelspec": {
   "display_name": "Python 3 (ipykernel)",
   "language": "python",
   "name": "python3"
  },
  "language_info": {
   "codemirror_mode": {
    "name": "ipython",
    "version": 3
   },
   "file_extension": ".py",
   "mimetype": "text/x-python",
   "name": "python",
   "nbconvert_exporter": "python",
   "pygments_lexer": "ipython3",
   "version": "3.10.13"
  }
 },
 "nbformat": 4,
 "nbformat_minor": 5
}
