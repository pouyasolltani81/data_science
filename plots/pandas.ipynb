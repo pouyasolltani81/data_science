{
  "nbformat": 4,
  "nbformat_minor": 0,
  "metadata": {
    "colab": {
      "provenance": []
    },
    "kernelspec": {
      "name": "python3",
      "display_name": "Python 3"
    },
    "language_info": {
      "name": "python"
    }
  },
  "cells": [
    {
      "cell_type": "code",
      "source": [
        "import pandas as pd\n",
        "\n",
        "# ساخت یک دیتافریم\n",
        "data = {\n",
        "    'Name': ['John', 'Anna', 'Peter', 'Linda', 'Mark'],\n",
        "    'Age': [28, 35, 41, 29, 33],\n",
        "    'Gender': ['Male', 'Female', 'Male', 'Female', 'Male'],\n",
        "    'Salary': [50000, 60000, 75000, 45000, 70000]\n",
        "}\n",
        "df = pd.DataFrame(data)"
      ],
      "metadata": {
        "id": "ZHnZLQ2arKej"
      },
      "execution_count": null,
      "outputs": []
    },
    {
      "cell_type": "code",
      "source": [
        "# نمایش دیتافریم\n",
        "print(\"DataFrame:\")\n",
        "df"
      ],
      "metadata": {
        "colab": {
          "base_uri": "https://localhost:8080/",
          "height": 243
        },
        "id": "1nyDw4RDSZA8",
        "outputId": "a96b6649-aa24-4763-8c95-ed60f2d463f8"
      },
      "execution_count": null,
      "outputs": [
        {
          "output_type": "stream",
          "name": "stdout",
          "text": [
            "DataFrame:\n"
          ]
        },
        {
          "output_type": "execute_result",
          "data": {
            "text/plain": [
              "    Name  Age  Gender  Salary\n",
              "0   John   28    Male   50000\n",
              "1   Anna   35  Female   60000\n",
              "2  Peter   41    Male   75000\n",
              "3  Linda   29  Female   45000\n",
              "4   Mark   33    Male   70000"
            ],
            "text/html": [
              "\n",
              "  <div id=\"df-7ef42c32-753c-4310-8161-ee01011313c2\" class=\"colab-df-container\">\n",
              "    <div>\n",
              "<style scoped>\n",
              "    .dataframe tbody tr th:only-of-type {\n",
              "        vertical-align: middle;\n",
              "    }\n",
              "\n",
              "    .dataframe tbody tr th {\n",
              "        vertical-align: top;\n",
              "    }\n",
              "\n",
              "    .dataframe thead th {\n",
              "        text-align: right;\n",
              "    }\n",
              "</style>\n",
              "<table border=\"1\" class=\"dataframe\">\n",
              "  <thead>\n",
              "    <tr style=\"text-align: right;\">\n",
              "      <th></th>\n",
              "      <th>Name</th>\n",
              "      <th>Age</th>\n",
              "      <th>Gender</th>\n",
              "      <th>Salary</th>\n",
              "    </tr>\n",
              "  </thead>\n",
              "  <tbody>\n",
              "    <tr>\n",
              "      <th>0</th>\n",
              "      <td>John</td>\n",
              "      <td>28</td>\n",
              "      <td>Male</td>\n",
              "      <td>50000</td>\n",
              "    </tr>\n",
              "    <tr>\n",
              "      <th>1</th>\n",
              "      <td>Anna</td>\n",
              "      <td>35</td>\n",
              "      <td>Female</td>\n",
              "      <td>60000</td>\n",
              "    </tr>\n",
              "    <tr>\n",
              "      <th>2</th>\n",
              "      <td>Peter</td>\n",
              "      <td>41</td>\n",
              "      <td>Male</td>\n",
              "      <td>75000</td>\n",
              "    </tr>\n",
              "    <tr>\n",
              "      <th>3</th>\n",
              "      <td>Linda</td>\n",
              "      <td>29</td>\n",
              "      <td>Female</td>\n",
              "      <td>45000</td>\n",
              "    </tr>\n",
              "    <tr>\n",
              "      <th>4</th>\n",
              "      <td>Mark</td>\n",
              "      <td>33</td>\n",
              "      <td>Male</td>\n",
              "      <td>70000</td>\n",
              "    </tr>\n",
              "  </tbody>\n",
              "</table>\n",
              "</div>\n",
              "    <div class=\"colab-df-buttons\">\n",
              "\n",
              "  <div class=\"colab-df-container\">\n",
              "    <button class=\"colab-df-convert\" onclick=\"convertToInteractive('df-7ef42c32-753c-4310-8161-ee01011313c2')\"\n",
              "            title=\"Convert this dataframe to an interactive table.\"\n",
              "            style=\"display:none;\">\n",
              "\n",
              "  <svg xmlns=\"http://www.w3.org/2000/svg\" height=\"24px\" viewBox=\"0 -960 960 960\">\n",
              "    <path d=\"M120-120v-720h720v720H120Zm60-500h600v-160H180v160Zm220 220h160v-160H400v160Zm0 220h160v-160H400v160ZM180-400h160v-160H180v160Zm440 0h160v-160H620v160ZM180-180h160v-160H180v160Zm440 0h160v-160H620v160Z\"/>\n",
              "  </svg>\n",
              "    </button>\n",
              "\n",
              "  <style>\n",
              "    .colab-df-container {\n",
              "      display:flex;\n",
              "      gap: 12px;\n",
              "    }\n",
              "\n",
              "    .colab-df-convert {\n",
              "      background-color: #E8F0FE;\n",
              "      border: none;\n",
              "      border-radius: 50%;\n",
              "      cursor: pointer;\n",
              "      display: none;\n",
              "      fill: #1967D2;\n",
              "      height: 32px;\n",
              "      padding: 0 0 0 0;\n",
              "      width: 32px;\n",
              "    }\n",
              "\n",
              "    .colab-df-convert:hover {\n",
              "      background-color: #E2EBFA;\n",
              "      box-shadow: 0px 1px 2px rgba(60, 64, 67, 0.3), 0px 1px 3px 1px rgba(60, 64, 67, 0.15);\n",
              "      fill: #174EA6;\n",
              "    }\n",
              "\n",
              "    .colab-df-buttons div {\n",
              "      margin-bottom: 4px;\n",
              "    }\n",
              "\n",
              "    [theme=dark] .colab-df-convert {\n",
              "      background-color: #3B4455;\n",
              "      fill: #D2E3FC;\n",
              "    }\n",
              "\n",
              "    [theme=dark] .colab-df-convert:hover {\n",
              "      background-color: #434B5C;\n",
              "      box-shadow: 0px 1px 3px 1px rgba(0, 0, 0, 0.15);\n",
              "      filter: drop-shadow(0px 1px 2px rgba(0, 0, 0, 0.3));\n",
              "      fill: #FFFFFF;\n",
              "    }\n",
              "  </style>\n",
              "\n",
              "    <script>\n",
              "      const buttonEl =\n",
              "        document.querySelector('#df-7ef42c32-753c-4310-8161-ee01011313c2 button.colab-df-convert');\n",
              "      buttonEl.style.display =\n",
              "        google.colab.kernel.accessAllowed ? 'block' : 'none';\n",
              "\n",
              "      async function convertToInteractive(key) {\n",
              "        const element = document.querySelector('#df-7ef42c32-753c-4310-8161-ee01011313c2');\n",
              "        const dataTable =\n",
              "          await google.colab.kernel.invokeFunction('convertToInteractive',\n",
              "                                                    [key], {});\n",
              "        if (!dataTable) return;\n",
              "\n",
              "        const docLinkHtml = 'Like what you see? Visit the ' +\n",
              "          '<a target=\"_blank\" href=https://colab.research.google.com/notebooks/data_table.ipynb>data table notebook</a>'\n",
              "          + ' to learn more about interactive tables.';\n",
              "        element.innerHTML = '';\n",
              "        dataTable['output_type'] = 'display_data';\n",
              "        await google.colab.output.renderOutput(dataTable, element);\n",
              "        const docLink = document.createElement('div');\n",
              "        docLink.innerHTML = docLinkHtml;\n",
              "        element.appendChild(docLink);\n",
              "      }\n",
              "    </script>\n",
              "  </div>\n",
              "\n",
              "\n",
              "<div id=\"df-b69aec86-e6b9-4149-8973-9160a8cf73ef\">\n",
              "  <button class=\"colab-df-quickchart\" onclick=\"quickchart('df-b69aec86-e6b9-4149-8973-9160a8cf73ef')\"\n",
              "            title=\"Suggest charts\"\n",
              "            style=\"display:none;\">\n",
              "\n",
              "<svg xmlns=\"http://www.w3.org/2000/svg\" height=\"24px\"viewBox=\"0 0 24 24\"\n",
              "     width=\"24px\">\n",
              "    <g>\n",
              "        <path d=\"M19 3H5c-1.1 0-2 .9-2 2v14c0 1.1.9 2 2 2h14c1.1 0 2-.9 2-2V5c0-1.1-.9-2-2-2zM9 17H7v-7h2v7zm4 0h-2V7h2v10zm4 0h-2v-4h2v4z\"/>\n",
              "    </g>\n",
              "</svg>\n",
              "  </button>\n",
              "\n",
              "<style>\n",
              "  .colab-df-quickchart {\n",
              "      --bg-color: #E8F0FE;\n",
              "      --fill-color: #1967D2;\n",
              "      --hover-bg-color: #E2EBFA;\n",
              "      --hover-fill-color: #174EA6;\n",
              "      --disabled-fill-color: #AAA;\n",
              "      --disabled-bg-color: #DDD;\n",
              "  }\n",
              "\n",
              "  [theme=dark] .colab-df-quickchart {\n",
              "      --bg-color: #3B4455;\n",
              "      --fill-color: #D2E3FC;\n",
              "      --hover-bg-color: #434B5C;\n",
              "      --hover-fill-color: #FFFFFF;\n",
              "      --disabled-bg-color: #3B4455;\n",
              "      --disabled-fill-color: #666;\n",
              "  }\n",
              "\n",
              "  .colab-df-quickchart {\n",
              "    background-color: var(--bg-color);\n",
              "    border: none;\n",
              "    border-radius: 50%;\n",
              "    cursor: pointer;\n",
              "    display: none;\n",
              "    fill: var(--fill-color);\n",
              "    height: 32px;\n",
              "    padding: 0;\n",
              "    width: 32px;\n",
              "  }\n",
              "\n",
              "  .colab-df-quickchart:hover {\n",
              "    background-color: var(--hover-bg-color);\n",
              "    box-shadow: 0 1px 2px rgba(60, 64, 67, 0.3), 0 1px 3px 1px rgba(60, 64, 67, 0.15);\n",
              "    fill: var(--button-hover-fill-color);\n",
              "  }\n",
              "\n",
              "  .colab-df-quickchart-complete:disabled,\n",
              "  .colab-df-quickchart-complete:disabled:hover {\n",
              "    background-color: var(--disabled-bg-color);\n",
              "    fill: var(--disabled-fill-color);\n",
              "    box-shadow: none;\n",
              "  }\n",
              "\n",
              "  .colab-df-spinner {\n",
              "    border: 2px solid var(--fill-color);\n",
              "    border-color: transparent;\n",
              "    border-bottom-color: var(--fill-color);\n",
              "    animation:\n",
              "      spin 1s steps(1) infinite;\n",
              "  }\n",
              "\n",
              "  @keyframes spin {\n",
              "    0% {\n",
              "      border-color: transparent;\n",
              "      border-bottom-color: var(--fill-color);\n",
              "      border-left-color: var(--fill-color);\n",
              "    }\n",
              "    20% {\n",
              "      border-color: transparent;\n",
              "      border-left-color: var(--fill-color);\n",
              "      border-top-color: var(--fill-color);\n",
              "    }\n",
              "    30% {\n",
              "      border-color: transparent;\n",
              "      border-left-color: var(--fill-color);\n",
              "      border-top-color: var(--fill-color);\n",
              "      border-right-color: var(--fill-color);\n",
              "    }\n",
              "    40% {\n",
              "      border-color: transparent;\n",
              "      border-right-color: var(--fill-color);\n",
              "      border-top-color: var(--fill-color);\n",
              "    }\n",
              "    60% {\n",
              "      border-color: transparent;\n",
              "      border-right-color: var(--fill-color);\n",
              "    }\n",
              "    80% {\n",
              "      border-color: transparent;\n",
              "      border-right-color: var(--fill-color);\n",
              "      border-bottom-color: var(--fill-color);\n",
              "    }\n",
              "    90% {\n",
              "      border-color: transparent;\n",
              "      border-bottom-color: var(--fill-color);\n",
              "    }\n",
              "  }\n",
              "</style>\n",
              "\n",
              "  <script>\n",
              "    async function quickchart(key) {\n",
              "      const quickchartButtonEl =\n",
              "        document.querySelector('#' + key + ' button');\n",
              "      quickchartButtonEl.disabled = true;  // To prevent multiple clicks.\n",
              "      quickchartButtonEl.classList.add('colab-df-spinner');\n",
              "      try {\n",
              "        const charts = await google.colab.kernel.invokeFunction(\n",
              "            'suggestCharts', [key], {});\n",
              "      } catch (error) {\n",
              "        console.error('Error during call to suggestCharts:', error);\n",
              "      }\n",
              "      quickchartButtonEl.classList.remove('colab-df-spinner');\n",
              "      quickchartButtonEl.classList.add('colab-df-quickchart-complete');\n",
              "    }\n",
              "    (() => {\n",
              "      let quickchartButtonEl =\n",
              "        document.querySelector('#df-b69aec86-e6b9-4149-8973-9160a8cf73ef button');\n",
              "      quickchartButtonEl.style.display =\n",
              "        google.colab.kernel.accessAllowed ? 'block' : 'none';\n",
              "    })();\n",
              "  </script>\n",
              "</div>\n",
              "    </div>\n",
              "  </div>\n"
            ],
            "application/vnd.google.colaboratory.intrinsic+json": {
              "type": "dataframe",
              "variable_name": "df",
              "summary": "{\n  \"name\": \"df\",\n  \"rows\": 5,\n  \"fields\": [\n    {\n      \"column\": \"Name\",\n      \"properties\": {\n        \"dtype\": \"string\",\n        \"num_unique_values\": 5,\n        \"samples\": [\n          \"Anna\",\n          \"Mark\",\n          \"Peter\"\n        ],\n        \"semantic_type\": \"\",\n        \"description\": \"\"\n      }\n    },\n    {\n      \"column\": \"Age\",\n      \"properties\": {\n        \"dtype\": \"number\",\n        \"std\": 5,\n        \"min\": 28,\n        \"max\": 41,\n        \"num_unique_values\": 5,\n        \"samples\": [\n          35,\n          33,\n          41\n        ],\n        \"semantic_type\": \"\",\n        \"description\": \"\"\n      }\n    },\n    {\n      \"column\": \"Gender\",\n      \"properties\": {\n        \"dtype\": \"category\",\n        \"num_unique_values\": 2,\n        \"samples\": [\n          \"Female\",\n          \"Male\"\n        ],\n        \"semantic_type\": \"\",\n        \"description\": \"\"\n      }\n    },\n    {\n      \"column\": \"Salary\",\n      \"properties\": {\n        \"dtype\": \"number\",\n        \"std\": 12747,\n        \"min\": 45000,\n        \"max\": 75000,\n        \"num_unique_values\": 5,\n        \"samples\": [\n          60000,\n          70000\n        ],\n        \"semantic_type\": \"\",\n        \"description\": \"\"\n      }\n    }\n  ]\n}"
            }
          },
          "metadata": {},
          "execution_count": 23
        }
      ]
    },
    {
      "cell_type": "code",
      "source": [
        "# عملیات های اولیه\n",
        "print(\"Basic Operations:\")\n",
        "print(\"Shape of DataFrame:\", df.shape)\n",
        "print(\"Column Names:\", df.columns)\n",
        "print(\"Data Types of Columns:\")\n",
        "print(df.dtypes)"
      ],
      "metadata": {
        "colab": {
          "base_uri": "https://localhost:8080/"
        },
        "id": "yWT3jYuESZUF",
        "outputId": "e3e21f23-8ea6-4074-92ae-e9ce72543c7e"
      },
      "execution_count": null,
      "outputs": [
        {
          "output_type": "stream",
          "name": "stdout",
          "text": [
            "Basic Operations:\n",
            "Shape of DataFrame: (5, 4)\n",
            "Column Names: Index(['Name', 'Age', 'Gender', 'Salary'], dtype='object')\n",
            "Data Types of Columns:\n",
            "Name      object\n",
            "Age        int64\n",
            "Gender    object\n",
            "Salary     int64\n",
            "dtype: object\n"
          ]
        }
      ]
    },
    {
      "cell_type": "code",
      "source": [
        "# نمایش دیتا\n",
        "print(\"Accessing Data:\")\n",
        "print(\"First 3 Rows:\")\n",
        "print(df.head(3))\n",
        "print()\n",
        "print(\"Last 2 Rows:\")\n",
        "print(df.tail(2))\n",
        "\n"
      ],
      "metadata": {
        "colab": {
          "base_uri": "https://localhost:8080/"
        },
        "id": "0WSiB2ALSZZB",
        "outputId": "082d0e9a-6e71-469e-c5d0-5b401a5c9ff6"
      },
      "execution_count": null,
      "outputs": [
        {
          "output_type": "stream",
          "name": "stdout",
          "text": [
            "Accessing Data:\n",
            "First 3 Rows:\n",
            "    Name  Age  Gender  Salary\n",
            "0   John   28    Male   50000\n",
            "1   Anna   35  Female   60000\n",
            "2  Peter   41    Male   75000\n",
            "\n",
            "Last 2 Rows:\n",
            "    Name  Age  Gender  Salary\n",
            "3  Linda   29  Female   45000\n",
            "4   Mark   33    Male   70000\n"
          ]
        }
      ]
    },
    {
      "cell_type": "code",
      "source": [
        "# نمایش بخش مشخصی از داده\n",
        "print(\"Indexing and Selecting Data:\")\n",
        "print(\"Value in first row, second column:\", df.iloc[0, 1])\n",
        "print(\"Data in 'Age' column:\")\n",
        "print(df['Age'])\n",
        "print(\"Rows where Age > 30:\")\n",
        "print(df[df['Age'] > 30])\n",
        "print()"
      ],
      "metadata": {
        "colab": {
          "base_uri": "https://localhost:8080/"
        },
        "id": "2t4Zs40SSZdS",
        "outputId": "80ef42e1-8812-4892-8b9d-54fb2382d455"
      },
      "execution_count": null,
      "outputs": [
        {
          "output_type": "stream",
          "name": "stdout",
          "text": [
            "Indexing and Selecting Data:\n",
            "Value in first row, second column: 28\n",
            "Data in 'Age' column:\n",
            "0    28\n",
            "1    35\n",
            "2    41\n",
            "3    29\n",
            "4    33\n",
            "Name: Age, dtype: int64\n",
            "Rows where Age > 30:\n",
            "    Name  Age  Gender  Salary\n",
            "1   Anna   35  Female   60000\n",
            "2  Peter   41    Male   75000\n",
            "4   Mark   33    Male   70000\n",
            "\n"
          ]
        }
      ]
    },
    {
      "cell_type": "code",
      "source": [
        "# تغییر داده\n",
        "print(\"Data Manipulation:\")\n",
        "df['Bonus'] = df['Salary'] * 0.1  # Add a new column\n",
        "print(\"Updated DataFrame with Bonus Column:\")\n",
        "print(df)\n"
      ],
      "metadata": {
        "colab": {
          "base_uri": "https://localhost:8080/"
        },
        "id": "wzY-gCbbSZg4",
        "outputId": "e2fe6236-b8e8-46eb-e87e-3c1a4077be97"
      },
      "execution_count": null,
      "outputs": [
        {
          "output_type": "stream",
          "name": "stdout",
          "text": [
            "Data Manipulation:\n",
            "Updated DataFrame with Bonus Column:\n",
            "    Name  Age  Gender  Salary   Bonus\n",
            "0   John   28    Male   50000  5000.0\n",
            "1   Anna   35  Female   60000  6000.0\n",
            "2  Peter   41    Male   75000  7500.0\n",
            "3  Linda   29  Female   45000  4500.0\n",
            "4   Mark   33    Male   70000  7000.0\n",
            "\n"
          ]
        }
      ]
    },
    {
      "cell_type": "code",
      "source": [
        "# گروه بندی\n",
        "print(\"Grouping and Aggregation:\")\n",
        "grouped = df.groupby('Gender')\n",
        "print(\"Average Salary by Gender:\")\n",
        "print(grouped['Salary'])\n",
        "print()"
      ],
      "metadata": {
        "colab": {
          "base_uri": "https://localhost:8080/"
        },
        "id": "xzCcAnb-SZk2",
        "outputId": "a6f12d96-e696-42ff-eeb3-d3cc5da7951f"
      },
      "execution_count": null,
      "outputs": [
        {
          "output_type": "stream",
          "name": "stdout",
          "text": [
            "Grouping and Aggregation:\n",
            "Average Salary by Gender:\n",
            "<pandas.core.groupby.generic.SeriesGroupBy object at 0x7f27823deb90>\n",
            "\n"
          ]
        }
      ]
    },
    {
      "cell_type": "code",
      "source": [
        "# رفع و رجوع داده های پوچ\n",
        "print(\"Handling Missing Values:\")\n",
        "df.loc[1, 'Age'] = None  # Introduce a missing value\n",
        "print(\"DataFrame with Missing Values:\")\n",
        "print(df)\n",
        "print()\n",
        "print(\"DataFrame after Filling Missing Values:\")\n",
        "print(df.fillna(df.Age.mean()))\n"
      ],
      "metadata": {
        "colab": {
          "base_uri": "https://localhost:8080/"
        },
        "id": "59ha3c3LSZoh",
        "outputId": "cd9433ed-d1f5-493a-8358-b38d81aaac39"
      },
      "execution_count": null,
      "outputs": [
        {
          "output_type": "stream",
          "name": "stdout",
          "text": [
            "Handling Missing Values:\n",
            "DataFrame with Missing Values:\n",
            "    Name   Age  Gender  Salary   Bonus\n",
            "0   John  28.0    Male   50000  5000.0\n",
            "1   Anna   NaN  Female   60000  6000.0\n",
            "2  Peter  41.0    Male   75000  7500.0\n",
            "3  Linda  29.0  Female   45000  4500.0\n",
            "4   Mark  33.0    Male   70000  7000.0\n",
            "\n",
            "DataFrame after Filling Missing Values:\n",
            "    Name    Age  Gender  Salary   Bonus\n",
            "0   John  28.00    Male   50000  5000.0\n",
            "1   Anna  32.75  Female   60000  6000.0\n",
            "2  Peter  41.00    Male   75000  7500.0\n",
            "3  Linda  29.00  Female   45000  4500.0\n",
            "4   Mark  33.00    Male   70000  7000.0\n"
          ]
        }
      ]
    },
    {
      "cell_type": "code",
      "source": [
        "# ترکیب دیتافریم ها\n",
        "print(\"Merging DataFrames:\")\n",
        "df1 = pd.DataFrame({'ID': [1, 2, 3], 'Name': ['John', 'Anna', 'Peter']})\n",
        "df2 = pd.DataFrame({'ID': [2, 3, 4], 'Salary': [60000, 75000, 80000]})\n",
        "merged_df = pd.merge(df1, df2, on='ID')\n",
        "print(\"Merged DataFrame:\")\n",
        "print(merged_df)"
      ],
      "metadata": {
        "id": "hLUrToeFrsZZ",
        "colab": {
          "base_uri": "https://localhost:8080/"
        },
        "outputId": "ae7f734f-a56d-48c1-da5e-02ea5832de18"
      },
      "execution_count": null,
      "outputs": [
        {
          "output_type": "stream",
          "name": "stdout",
          "text": [
            "Merging DataFrames:\n",
            "Merged DataFrame:\n",
            "   ID   Name  Salary\n",
            "0   2   Anna   60000\n",
            "1   3  Peter   75000\n"
          ]
        }
      ]
    },
    {
      "cell_type": "code",
      "source": [
        "# چند تکنیک دیگر( pivot tables, stacking/unstacking, reshaping)\n",
        "print(\"Advanced Techniques:\")\n",
        "pivot_table = df.pivot_table(index='Gender', columns='Name', values='Salary')\n",
        "print(\"Pivot Table:\")\n",
        "print(pivot_table)\n",
        "print()"
      ],
      "metadata": {
        "colab": {
          "base_uri": "https://localhost:8080/"
        },
        "id": "tpIm-NoISvRT",
        "outputId": "43485da9-f6bf-45c6-ba51-dec88b8c5c33"
      },
      "execution_count": null,
      "outputs": [
        {
          "output_type": "stream",
          "name": "stdout",
          "text": [
            "Advanced Techniques:\n",
            "Pivot Table:\n",
            "Name       Anna     John    Linda     Mark    Peter\n",
            "Gender                                             \n",
            "Female  60000.0      NaN  45000.0      NaN      NaN\n",
            "Male        NaN  50000.0      NaN  70000.0  75000.0\n",
            "\n"
          ]
        }
      ]
    },
    {
      "cell_type": "code",
      "source": [
        "# ذخیره داده\n",
        "print(\"Exporting Data:\")\n",
        "df.to_csv('data.csv', index=False)\n",
        "print(\"DataFrame exported to data.csv\")\n"
      ],
      "metadata": {
        "colab": {
          "base_uri": "https://localhost:8080/"
        },
        "id": "-NuhWS9pSvVq",
        "outputId": "150336e2-b111-45d9-f505-a29f0064c229"
      },
      "execution_count": null,
      "outputs": [
        {
          "output_type": "stream",
          "name": "stdout",
          "text": [
            "Exporting Data:\n",
            "DataFrame exported to data.csv\n"
          ]
        }
      ]
    },
    {
      "cell_type": "code",
      "source": [],
      "metadata": {
        "id": "Tf8fJ1GX-w6S"
      },
      "execution_count": null,
      "outputs": []
    },
    {
      "cell_type": "markdown",
      "source": [
        "تست با داده ی واقعی\n"
      ],
      "metadata": {
        "id": "HpuczIhy-1_5"
      }
    },
    {
      "cell_type": "code",
      "source": [
        "import pandas as pd\n",
        "\n",
        "# Load the Excel file\n",
        "file_path = '/content/BTCUSDTNewsSA.xlsx'  # Replace with your file path\n",
        "df = pd.read_excel(file_path,usecols=('Date','title'))\n",
        "\n"
      ],
      "metadata": {
        "id": "mnupxAAESvZQ"
      },
      "execution_count": 7,
      "outputs": []
    },
    {
      "cell_type": "code",
      "source": [
        "\n",
        "df['Date'] = pd.to_datetime(df['Date'])\n"
      ],
      "metadata": {
        "id": "ezZULOC2SvdF"
      },
      "execution_count": 8,
      "outputs": []
    },
    {
      "cell_type": "code",
      "source": [
        "\n",
        "# گروهبندی با زمانبندی های مختلف\n",
        "# هفته\n",
        "weekly_data = df.groupby(pd.Grouper(key='Date', freq='W-SUN')).sum()  # Group by week starting on Sunday\n",
        "\n"
      ],
      "metadata": {
        "id": "x4mrgw2USvgi"
      },
      "execution_count": 9,
      "outputs": []
    },
    {
      "cell_type": "code",
      "source": [
        "# ماه\n",
        "monthly_data = df.groupby(pd.Grouper(key='Date', freq='M')).sum()  # Group by month\n",
        "\n"
      ],
      "metadata": {
        "id": "RpNNijPnwDMU"
      },
      "execution_count": 10,
      "outputs": []
    },
    {
      "cell_type": "code",
      "source": [
        "# سال\n",
        "yearly_data = df.groupby(pd.Grouper(key='Date', freq='Y')).sum()  # Group by year\n"
      ],
      "metadata": {
        "id": "PY3QlurSwE07"
      },
      "execution_count": 12,
      "outputs": []
    },
    {
      "cell_type": "code",
      "source": [
        "\n",
        "# روز\n",
        "daily_data = df.groupby(pd.Grouper(key='Date', freq='D')).sum()  # Group by day\n"
      ],
      "metadata": {
        "id": "fFVkMmj0wGSg"
      },
      "execution_count": 13,
      "outputs": []
    },
    {
      "cell_type": "code",
      "source": [
        "\n",
        "\n",
        "print(\"Weekly Data:\")\n",
        "print(weekly_data)\n",
        "\n"
      ],
      "metadata": {
        "colab": {
          "base_uri": "https://localhost:8080/"
        },
        "id": "Cr99rcEqwH5C",
        "outputId": "bc2415bc-45bb-4628-e4cc-70261848254b"
      },
      "execution_count": 11,
      "outputs": [
        {
          "output_type": "stream",
          "name": "stdout",
          "text": [
            "Weekly Data:\n",
            "                                                        title\n",
            "Date                                                         \n",
            "2020-06-28  Here’s Why Bitcoin is Likely to See Historic V...\n",
            "2020-07-05  Bitcoin Holds Bullish On Key Technical Indicat...\n",
            "2020-07-12  Here’s Why the Chinese Stock Market’s Rally Mi...\n",
            "2020-07-19  Institutional Traders Remain Bearish on Bitcoi...\n",
            "2020-07-26  It’s “Open Air” for Bitcoin Down to $7,000 as ...\n",
            "...                                                       ...\n",
            "2022-02-13  First Mover Asia: Bitcoin Sees little movement...\n",
            "2022-02-20  First Mover Asia: Bitcoin inches upward in Sun...\n",
            "2022-02-27  Top 5 cryptocurrencies to watch this week: BTC...\n",
            "2022-03-06  Bitcoin Price Analysis: BTC/USD sellers approa...\n",
            "2022-03-13  TA: Bitcoin Resumes Decline, Why BTC Could Rev...\n",
            "\n",
            "[90 rows x 1 columns]\n"
          ]
        }
      ]
    },
    {
      "cell_type": "code",
      "source": [
        "\n",
        "print(\"\\nMonthly Data:\")\n",
        "print(monthly_data)\n"
      ],
      "metadata": {
        "colab": {
          "base_uri": "https://localhost:8080/"
        },
        "id": "Qt5dfOsNwWwS",
        "outputId": "8c7072cb-e69d-41c2-c4f4-ee78233e7776"
      },
      "execution_count": 14,
      "outputs": [
        {
          "output_type": "stream",
          "name": "stdout",
          "text": [
            "\n",
            "Monthly Data:\n",
            "                                                        title\n",
            "Date                                                         \n",
            "2020-06-30  Here’s Why Bitcoin is Likely to See Historic V...\n",
            "2020-07-31  Bitcoin Flirts with Posting a Bull Cross as Cr...\n",
            "2020-08-31  Crypto Tidbits: Bitcoin Explodes Past $11k, Et...\n",
            "2020-09-30  Ethereum Wrapped Bitcoin Supply Doubles In Aug...\n",
            "2020-10-31  Bitcoin Is Holding a Support That Stretches Ba...\n",
            "2020-11-30  Here are 4 Reasons Why One Analyst is Shorting...\n",
            "2020-12-31                                                  0\n",
            "2021-01-31  Cryptocurrencies Price Prediction: Bitcoin, Da...\n",
            "2021-02-28  Ripple Price Analysis: XRP/USD consolidates re...\n",
            "2021-03-31  Cryptocurrencies Price Prediction: Ripple, Bit...\n",
            "2021-04-30  South Korea to issue blockchain-protected digi...\n",
            "2021-05-31  VeChain Price Prediction: VET coils up for 23%...\n",
            "2021-06-30  Polkadot Price Prediction: DOT indecisive, exp...\n",
            "2021-07-31  SafeMoon Price Forecast: SAFEMOON appears deci...\n",
            "2021-08-31  Bear Market Over? Why Bitcoin Could Soar To $4...\n",
            "2021-09-30  3 reasons why Polkadot could be the next altco...\n",
            "2021-10-31  DeFi and DEX volumes soar amid China's crypto ...\n",
            "2021-11-30  Maturing Bitcoin ($BTC USD) Means Rallies With...\n",
            "2021-12-31  MicroStrategy Follows El Salvador’s Lead As It...\n",
            "2022-01-31  MicroStrategy Remains One Step Ahead With $94M...\n",
            "2022-02-28  The Uber Rich Investors Are Picking This Altco...\n",
            "2022-03-31  BitMEX co-founder must face criminal trial in ...\n"
          ]
        }
      ]
    },
    {
      "cell_type": "code",
      "source": [
        "\n",
        "print(\"\\nYearly Data:\")\n",
        "print(yearly_data)"
      ],
      "metadata": {
        "colab": {
          "base_uri": "https://localhost:8080/"
        },
        "id": "_92gtVx9wauu",
        "outputId": "b58d771e-fea2-40c5-d042-7954e480d9dc"
      },
      "execution_count": 15,
      "outputs": [
        {
          "output_type": "stream",
          "name": "stdout",
          "text": [
            "\n",
            "Yearly Data:\n",
            "                                                        title\n",
            "Date                                                         \n",
            "2020-12-31  Here’s Why Bitcoin is Likely to See Historic V...\n",
            "2021-12-31  Cryptocurrencies Price Prediction: Bitcoin, Da...\n",
            "2022-12-31  MicroStrategy Remains One Step Ahead With $94M...\n"
          ]
        }
      ]
    },
    {
      "cell_type": "code",
      "source": [
        "\n",
        "print(\"\\nDaily Data:\")\n",
        "print(daily_data)"
      ],
      "metadata": {
        "colab": {
          "base_uri": "https://localhost:8080/"
        },
        "id": "dne98575wcLD",
        "outputId": "00c4af42-3794-4e3e-b779-72f49dbd08aa"
      },
      "execution_count": 16,
      "outputs": [
        {
          "output_type": "stream",
          "name": "stdout",
          "text": [
            "\n",
            "Daily Data:\n",
            "                                                        title\n",
            "Date                                                         \n",
            "2020-06-23  Here’s Why Bitcoin is Likely to See Historic V...\n",
            "2020-06-24  Brazil’s Shutdown of WhatsApp Pay May Spark Bi...\n",
            "2020-06-25  Will PlusToken Moving $458M Worth of Crypto Sp...\n",
            "2020-06-26  Why Bitcoin’s Network Activity Is Suggesting t...\n",
            "2020-06-27  $20 Million in BitMEX Longs Wiped as Bitcoin C...\n",
            "...                                                       ...\n",
            "2022-03-08  Bitcoin steadies as gold hits $2K, US dollar s...\n",
            "2022-03-09  How to navigate cryptocurrency tax implication...\n",
            "2022-03-10  War, Inflation, & Geopolitical Tensions Bring ...\n",
            "2022-03-11  Cryptocurrencies Price Prediction: Terra, MATI...\n",
            "2022-03-12  U.S. Treasury Department stresses that Russia ...\n",
            "\n",
            "[628 rows x 1 columns]\n"
          ]
        }
      ]
    },
    {
      "cell_type": "code",
      "source": [],
      "metadata": {
        "id": "jKeC4XohyMiI"
      },
      "execution_count": null,
      "outputs": []
    }
  ]
}